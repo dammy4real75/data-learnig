{
  "nbformat": 4,
  "nbformat_minor": 0,
  "metadata": {
    "colab": {
      "provenance": [],
      "authorship_tag": "ABX9TyPV/Ioa2jcsH+n3SntGz5OJ",
      "include_colab_link": true
    },
    "kernelspec": {
      "name": "python3",
      "display_name": "Python 3"
    },
    "language_info": {
      "name": "python"
    }
  },
  "cells": [
    {
      "cell_type": "markdown",
      "metadata": {
        "id": "view-in-github",
        "colab_type": "text"
      },
      "source": [
        "<a href=\"https://colab.research.google.com/github/dammy4real75/data-learnig/blob/main/Avado_Training_05_11.ipynb\" target=\"_parent\"><img src=\"https://colab.research.google.com/assets/colab-badge.svg\" alt=\"Open In Colab\"/></a>"
      ]
    },
    {
      "cell_type": "markdown",
      "source": [
        "## Avado Training 05/11"
      ],
      "metadata": {
        "id": "-R1Zx_A6KiPg"
      }
    },
    {
      "cell_type": "code",
      "execution_count": 2,
      "metadata": {
        "colab": {
          "base_uri": "https://localhost:8080/"
        },
        "id": "zS5a06vKGre0",
        "outputId": "3974a80f-c986-40fb-986d-79172a0ba8c0"
      },
      "outputs": [
        {
          "output_type": "execute_result",
          "data": {
            "text/plain": [
              "3"
            ]
          },
          "metadata": {},
          "execution_count": 2
        }
      ],
      "source": [
        "6-3"
      ]
    },
    {
      "cell_type": "code",
      "source": [
        "y=3\n",
        "x=4\n",
        "print(x+y)"
      ],
      "metadata": {
        "colab": {
          "base_uri": "https://localhost:8080/"
        },
        "id": "C180-XE3LXSD",
        "outputId": "3cd1af45-2185-42ed-fa0b-22f58c865fab"
      },
      "execution_count": 3,
      "outputs": [
        {
          "output_type": "stream",
          "name": "stdout",
          "text": [
            "7\n"
          ]
        }
      ]
    },
    {
      "cell_type": "code",
      "source": [
        "x=10\n",
        "if x%2 ==0:\n",
        "  print(\"This is an even number!\")"
      ],
      "metadata": {
        "colab": {
          "base_uri": "https://localhost:8080/"
        },
        "id": "dITEeZF8LyHl",
        "outputId": "4ad94a45-3bbe-484a-fc2b-b39df4d0ea7a"
      },
      "execution_count": 6,
      "outputs": [
        {
          "output_type": "stream",
          "name": "stdout",
          "text": [
            "This is an even number!\n"
          ]
        }
      ]
    },
    {
      "cell_type": "code",
      "source": [
        "x=0.2\n",
        "if x%2==0:\n",
        "  print(\"This is an even number!\")\n",
        "else:\n",
        "  print(\"This id an odd number\")"
      ],
      "metadata": {
        "colab": {
          "base_uri": "https://localhost:8080/"
        },
        "id": "a6qb6GBcNHE8",
        "outputId": "384050af-3b17-4e9f-83f8-5f8ef25936e9"
      },
      "execution_count": 19,
      "outputs": [
        {
          "output_type": "stream",
          "name": "stdout",
          "text": [
            "This id an odd number\n"
          ]
        }
      ]
    },
    {
      "cell_type": "code",
      "source": [
        "a=10\n",
        "b=12\n",
        "if a<b:\n",
        " print(\"The first value is smaller than the second\")\n",
        "elif a==b:\n",
        "  print(\"The first value is equal to the second\")\n",
        "else:\n",
        "  print(\"The first value is greater than the second\")"
      ],
      "metadata": {
        "colab": {
          "base_uri": "https://localhost:8080/"
        },
        "id": "hJ1sXcRTOuW6",
        "outputId": "87e28955-720a-4b7e-f47e-00b72baa4eaf"
      },
      "execution_count": 21,
      "outputs": [
        {
          "output_type": "stream",
          "name": "stdout",
          "text": [
            "The first value is smaller than the second\n"
          ]
        }
      ]
    },
    {
      "cell_type": "code",
      "source": [
        "a=-1\n",
        "if a>0:\n",
        "  print(\"The number is positeve\")\n",
        "elif a<0:\n",
        "  print(\"The number is negative\")\n",
        "else:\n",
        "  print(\"The number is zero\") "
      ],
      "metadata": {
        "colab": {
          "base_uri": "https://localhost:8080/"
        },
        "id": "d5SyEHSMQNrJ",
        "outputId": "a721e5e6-ab20-461b-84fa-59386dd2ff0b"
      },
      "execution_count": 24,
      "outputs": [
        {
          "output_type": "stream",
          "name": "stdout",
          "text": [
            "The number is negative\n"
          ]
        }
      ]
    },
    {
      "cell_type": "code",
      "source": [
        "for i in range(0,11):\n",
        " print(i)"
      ],
      "metadata": {
        "colab": {
          "base_uri": "https://localhost:8080/"
        },
        "id": "PY-JMzHWRrvI",
        "outputId": "e31e4fc0-1bb9-4a9d-9b3d-3df7fc5bf4d9"
      },
      "execution_count": 28,
      "outputs": [
        {
          "output_type": "stream",
          "name": "stdout",
          "text": [
            "0\n",
            "1\n",
            "2\n",
            "3\n",
            "4\n",
            "5\n",
            "6\n",
            "7\n",
            "8\n",
            "9\n",
            "10\n"
          ]
        }
      ]
    },
    {
      "cell_type": "code",
      "source": [
        "for i in range(0,11):\n",
        "  print(\"The iteration number is {}\".format(i))"
      ],
      "metadata": {
        "colab": {
          "base_uri": "https://localhost:8080/"
        },
        "id": "kk9rH6pOSGOh",
        "outputId": "77452104-7057-4e8b-c51f-a5e88d60a5e4"
      },
      "execution_count": 31,
      "outputs": [
        {
          "output_type": "stream",
          "name": "stdout",
          "text": [
            "The iteration number is 0\n",
            "The iteration number is 1\n",
            "The iteration number is 2\n",
            "The iteration number is 3\n",
            "The iteration number is 4\n",
            "The iteration number is 5\n",
            "The iteration number is 6\n",
            "The iteration number is 7\n",
            "The iteration number is 8\n",
            "The iteration number is 9\n",
            "The iteration number is 10\n"
          ]
        }
      ]
    },
    {
      "cell_type": "code",
      "source": [
        "i=0\n",
        "while i<=11:\n",
        "  print(i)\n",
        "  i=i+1"
      ],
      "metadata": {
        "colab": {
          "base_uri": "https://localhost:8080/"
        },
        "id": "M0Fw5MxwSclV",
        "outputId": "4a1e3984-4544-4932-c8ef-d7027291f166"
      },
      "execution_count": 35,
      "outputs": [
        {
          "output_type": "stream",
          "name": "stdout",
          "text": [
            "0\n",
            "1\n",
            "2\n",
            "3\n",
            "4\n",
            "5\n",
            "6\n",
            "7\n",
            "8\n",
            "9\n",
            "10\n",
            "11\n"
          ]
        }
      ]
    },
    {
      "cell_type": "code",
      "source": [
        "targetvalue=10\n",
        "iterate =0\n",
        "while iterate<targetvalue:\n",
        "  print(\"Iteration no is {}, which is less than the target value {}\".format(iterate,targetvalue))\n",
        "  iterate =iterate+1\n",
        "print(\"THE END!\")"
      ],
      "metadata": {
        "colab": {
          "base_uri": "https://localhost:8080/"
        },
        "id": "fbKXQL13Tb08",
        "outputId": "b9d69a17-7d42-4ced-943e-e2ff56c129a7"
      },
      "execution_count": 41,
      "outputs": [
        {
          "output_type": "stream",
          "name": "stdout",
          "text": [
            "Iteration no is 0, which is less than the target value 10\n",
            "Iteration no is 1, which is less than the target value 10\n",
            "Iteration no is 2, which is less than the target value 10\n",
            "Iteration no is 3, which is less than the target value 10\n",
            "Iteration no is 4, which is less than the target value 10\n",
            "Iteration no is 5, which is less than the target value 10\n",
            "Iteration no is 6, which is less than the target value 10\n",
            "Iteration no is 7, which is less than the target value 10\n",
            "Iteration no is 8, which is less than the target value 10\n",
            "Iteration no is 9, which is less than the target value 10\n",
            "THE END!\n"
          ]
        }
      ]
    },
    {
      "cell_type": "code",
      "source": [
        "colours =[\"Black\", \"Blue\", \"Red\", \"White\"]\n",
        "cars =[\"Range\",\"Tesla\",\"Ford\"]\n",
        "for colour in colours:#outer loop\n",
        "  for car in cars:#inner loop\n",
        "    print(colour,car)"
      ],
      "metadata": {
        "colab": {
          "base_uri": "https://localhost:8080/"
        },
        "id": "_Sq9uATyV6gP",
        "outputId": "1e4df1a0-da97-4afb-9d51-84aee5f128cf"
      },
      "execution_count": 43,
      "outputs": [
        {
          "output_type": "stream",
          "name": "stdout",
          "text": [
            "Black Range\n",
            "Black Tesla\n",
            "Black Ford\n",
            "Blue Range\n",
            "Blue Tesla\n",
            "Blue Ford\n",
            "Red Range\n",
            "Red Tesla\n",
            "Red Ford\n",
            "White Range\n",
            "White Tesla\n",
            "White Ford\n"
          ]
        }
      ]
    },
    {
      "cell_type": "code",
      "source": [
        "for i in range(1,6):#outer loop\n",
        "  for j in range(1,11):#inner loop\n",
        "    print(i*j)"
      ],
      "metadata": {
        "colab": {
          "base_uri": "https://localhost:8080/"
        },
        "id": "7gns-DqAXfXT",
        "outputId": "2d8e8382-f4bc-4e65-bf60-2cc06e73d5bf"
      },
      "execution_count": 44,
      "outputs": [
        {
          "output_type": "stream",
          "name": "stdout",
          "text": [
            "1\n",
            "2\n",
            "3\n",
            "4\n",
            "5\n",
            "6\n",
            "7\n",
            "8\n",
            "9\n",
            "10\n",
            "2\n",
            "4\n",
            "6\n",
            "8\n",
            "10\n",
            "12\n",
            "14\n",
            "16\n",
            "18\n",
            "20\n",
            "3\n",
            "6\n",
            "9\n",
            "12\n",
            "15\n",
            "18\n",
            "21\n",
            "24\n",
            "27\n",
            "30\n",
            "4\n",
            "8\n",
            "12\n",
            "16\n",
            "20\n",
            "24\n",
            "28\n",
            "32\n",
            "36\n",
            "40\n",
            "5\n",
            "10\n",
            "15\n",
            "20\n",
            "25\n",
            "30\n",
            "35\n",
            "40\n",
            "45\n",
            "50\n"
          ]
        }
      ]
    },
    {
      "cell_type": "code",
      "source": [
        "for i in range(1,6):#outer loop\n",
        "  for j in range(1,11):#inner loop\n",
        "    print(i*j,end=\"\")"
      ],
      "metadata": {
        "colab": {
          "base_uri": "https://localhost:8080/"
        },
        "id": "Wwarq9ksYIMn",
        "outputId": "f8ae8769-dd95-4263-9964-259a3a35837d"
      },
      "execution_count": 45,
      "outputs": [
        {
          "output_type": "stream",
          "name": "stdout",
          "text": [
            "123456789102468101214161820369121518212427304812162024283236405101520253035404550"
          ]
        }
      ]
    },
    {
      "cell_type": "code",
      "source": [
        "for i in range(1,6):#outer loop\n",
        "  for j in range(1,11):#inner loop\n",
        "    print(i*j,end=\" \")"
      ],
      "metadata": {
        "colab": {
          "base_uri": "https://localhost:8080/"
        },
        "id": "0fDyfICiYPbH",
        "outputId": "4b703c77-6226-476b-f3e0-f319560bfee2"
      },
      "execution_count": 46,
      "outputs": [
        {
          "output_type": "stream",
          "name": "stdout",
          "text": [
            "1 2 3 4 5 6 7 8 9 10 2 4 6 8 10 12 14 16 18 20 3 6 9 12 15 18 21 24 27 30 4 8 12 16 20 24 28 32 36 40 5 10 15 20 25 30 35 40 45 50 "
          ]
        }
      ]
    },
    {
      "cell_type": "code",
      "source": [
        "for i in range(1,6):#outer loop\n",
        "  for j in range(1,11):#inner loop\n",
        "    print(i*j,end=\" \")\n",
        "  print()"
      ],
      "metadata": {
        "colab": {
          "base_uri": "https://localhost:8080/"
        },
        "id": "BBU-xkP1YV_1",
        "outputId": "6cfa17a8-5b96-417a-cffd-f7cf13b0c280"
      },
      "execution_count": 47,
      "outputs": [
        {
          "output_type": "stream",
          "name": "stdout",
          "text": [
            "1 2 3 4 5 6 7 8 9 10 \n",
            "2 4 6 8 10 12 14 16 18 20 \n",
            "3 6 9 12 15 18 21 24 27 30 \n",
            "4 8 12 16 20 24 28 32 36 40 \n",
            "5 10 15 20 25 30 35 40 45 50 \n"
          ]
        }
      ]
    },
    {
      "cell_type": "code",
      "source": [
        "targetvalue=10\n",
        "iterate =0\n",
        "while iterate<targetvalue:\n",
        "  print(\"Iteration number is {}, which is less than the target value {}\".format(iterate,targetvalue))\n",
        "  if iterate==5:\n",
        "   break\n",
        "  iterate =iterate+1"
      ],
      "metadata": {
        "colab": {
          "base_uri": "https://localhost:8080/"
        },
        "id": "b14wFyBqaHd4",
        "outputId": "bbdae26f-1568-461f-d9fa-1eda8a206abd"
      },
      "execution_count": 52,
      "outputs": [
        {
          "output_type": "stream",
          "name": "stdout",
          "text": [
            "Iteration number is 0, which is less than the target value 10\n",
            "Iteration number is 1, which is less than the target value 10\n",
            "Iteration number is 2, which is less than the target value 10\n",
            "Iteration number is 3, which is less than the target value 10\n",
            "Iteration number is 4, which is less than the target value 10\n",
            "Iteration number is 5, which is less than the target value 10\n"
          ]
        }
      ]
    },
    {
      "cell_type": "code",
      "source": [
        "targetvalue=10 #break statement\n",
        "iterate =0\n",
        "while iterate<targetvalue:\n",
        "  print(\"Iteration number is {}, which is less than the target value {}\".format(iterate,targetvalue))\n",
        "  if iterate==5:\n",
        "   break\n",
        "  iterate =iterate+1"
      ],
      "metadata": {
        "colab": {
          "base_uri": "https://localhost:8080/"
        },
        "id": "v-Gz5voHbsZv",
        "outputId": "30c19766-737b-4ec4-8534-66c2411d5fcb"
      },
      "execution_count": 53,
      "outputs": [
        {
          "output_type": "stream",
          "name": "stdout",
          "text": [
            "Iteration number is 0, which is less than the target value 10\n",
            "Iteration number is 1, which is less than the target value 10\n",
            "Iteration number is 2, which is less than the target value 10\n",
            "Iteration number is 3, which is less than the target value 10\n",
            "Iteration number is 4, which is less than the target value 10\n",
            "Iteration number is 5, which is less than the target value 10\n"
          ]
        }
      ]
    },
    {
      "cell_type": "code",
      "source": [
        "names=[\"Sylvie,\",\"Mercy\",\"Kate\",\"Zara\"]\n",
        "for i in names:\n",
        "  if i ==\"Kate\":\n",
        "    continue\n",
        "  print(i)"
      ],
      "metadata": {
        "colab": {
          "base_uri": "https://localhost:8080/"
        },
        "id": "upXAOM1rdh1E",
        "outputId": "990cdc74-782f-4501-d988-b57c1e2c7c7e"
      },
      "execution_count": 54,
      "outputs": [
        {
          "output_type": "stream",
          "name": "stdout",
          "text": [
            "Sylvie,\n",
            "Mercy\n",
            "Zara\n"
          ]
        }
      ]
    },
    {
      "cell_type": "code",
      "source": [
        "targetvalue =10\n",
        "iteratevalue=0\n",
        "while iteratevalue<targetvalue:\n",
        "  iteratevalue=iteratevalue+1\n",
        "  if iteratevalue==5:\n",
        "   continue\n",
        "  print(\"Iteration number is {}, which is less than the target value {}\".format(iteratevalue,targetvalue))"
      ],
      "metadata": {
        "colab": {
          "base_uri": "https://localhost:8080/"
        },
        "id": "lzGh4PbTeLCT",
        "outputId": "d15bfe15-08f2-45c7-f301-9d022a358ca4"
      },
      "execution_count": 61,
      "outputs": [
        {
          "output_type": "stream",
          "name": "stdout",
          "text": [
            "Iteration number is 1, which is less than the target value 10\n",
            "Iteration number is 2, which is less than the target value 10\n",
            "Iteration number is 3, which is less than the target value 10\n",
            "Iteration number is 4, which is less than the target value 10\n",
            "Iteration number is 6, which is less than the target value 10\n",
            "Iteration number is 7, which is less than the target value 10\n",
            "Iteration number is 8, which is less than the target value 10\n",
            "Iteration number is 9, which is less than the target value 10\n",
            "Iteration number is 10, which is less than the target value 10\n"
          ]
        }
      ]
    },
    {
      "cell_type": "markdown",
      "source": [
        "#LISTS\n",
        "\n"
      ],
      "metadata": {
        "id": "k40uQXSHjFN6"
      }
    },
    {
      "cell_type": "markdown",
      "source": [
        "Ordered, Changeable,allows duplicates"
      ],
      "metadata": {
        "id": "vGsvV2UwjYS2"
      }
    },
    {
      "cell_type": "code",
      "source": [
        "mylist=[\"Michael\",\"Sean\",\"Adam\"]\n",
        "type(mylist)"
      ],
      "metadata": {
        "colab": {
          "base_uri": "https://localhost:8080/"
        },
        "id": "PAzXM4Xejl-k",
        "outputId": "7135dc8c-afa3-41ce-9fdd-bfce5af626da"
      },
      "execution_count": 62,
      "outputs": [
        {
          "output_type": "execute_result",
          "data": {
            "text/plain": [
              "list"
            ]
          },
          "metadata": {},
          "execution_count": 62
        }
      ]
    },
    {
      "cell_type": "code",
      "source": [
        "mylist=[\"Michael\",\"Sean\",\"Adam\"]\n",
        "mylist[-1]"
      ],
      "metadata": {
        "colab": {
          "base_uri": "https://localhost:8080/",
          "height": 35
        },
        "id": "L12gfMKdkVmK",
        "outputId": "2d0f7e96-7f7f-4ee9-9fec-d4a02857dde1"
      },
      "execution_count": 65,
      "outputs": [
        {
          "output_type": "execute_result",
          "data": {
            "text/plain": [
              "'Adam'"
            ],
            "application/vnd.google.colaboratory.intrinsic+json": {
              "type": "string"
            }
          },
          "metadata": {},
          "execution_count": 65
        }
      ]
    },
    {
      "cell_type": "code",
      "source": [
        "mylist=[\"Michael\",\"Sean\",\"Adam\"]\n",
        "mylist[0]=\"Paul\"\n",
        "print(mylist)"
      ],
      "metadata": {
        "colab": {
          "base_uri": "https://localhost:8080/"
        },
        "id": "Ux5t33Htkf1-",
        "outputId": "85b37bb9-1cb0-46bc-9420-864aa4b3d039"
      },
      "execution_count": 66,
      "outputs": [
        {
          "output_type": "stream",
          "name": "stdout",
          "text": [
            "['Paul', 'Sean', 'Adam']\n"
          ]
        }
      ]
    },
    {
      "cell_type": "code",
      "source": [
        "mylist=[\"Michael\",\"Sean\",\"Adam\",True,5000]\n",
        "len(mylist)"
      ],
      "metadata": {
        "colab": {
          "base_uri": "https://localhost:8080/"
        },
        "id": "Ocvpdt3_lX8V",
        "outputId": "82b71803-691d-4684-dfe8-30d8f8167556"
      },
      "execution_count": 68,
      "outputs": [
        {
          "output_type": "execute_result",
          "data": {
            "text/plain": [
              "5"
            ]
          },
          "metadata": {},
          "execution_count": 68
        }
      ]
    },
    {
      "cell_type": "code",
      "source": [
        "mylist=[\"Michael\",\"Sean\",\"Adam\"]\n",
        "if \"Sean\" in mylist:\n",
        "  print(\"Yes the element is found\")"
      ],
      "metadata": {
        "colab": {
          "base_uri": "https://localhost:8080/"
        },
        "id": "dS5t1MQXloM3",
        "outputId": "e02cd9a8-db1f-41fa-da45-61ac8b5b3f45"
      },
      "execution_count": 69,
      "outputs": [
        {
          "output_type": "stream",
          "name": "stdout",
          "text": [
            "Yes the element is found\n"
          ]
        }
      ]
    },
    {
      "cell_type": "code",
      "source": [
        "mylist=[\"Michael\",\"Sean\",\"Adam\"]\n",
        "mylist.insert(0,\"Zara\")\n",
        "print(mylist)"
      ],
      "metadata": {
        "colab": {
          "base_uri": "https://localhost:8080/"
        },
        "id": "XfjJZZUpmL19",
        "outputId": "873d9fc3-2a8f-4370-fda9-7586d9988a7d"
      },
      "execution_count": 70,
      "outputs": [
        {
          "output_type": "stream",
          "name": "stdout",
          "text": [
            "['Zara', 'Michael', 'Sean', 'Adam']\n"
          ]
        }
      ]
    },
    {
      "cell_type": "code",
      "source": [
        "mylist=[\"Michael\",\"Sean\",\"Adam\"]\n",
        "mylist.append(\"Paul\")\n",
        "print(mylist)"
      ],
      "metadata": {
        "colab": {
          "base_uri": "https://localhost:8080/"
        },
        "id": "aTxCUQA1maQp",
        "outputId": "2e83f57c-2df5-4eb4-f1e7-57d24b0cf095"
      },
      "execution_count": 71,
      "outputs": [
        {
          "output_type": "stream",
          "name": "stdout",
          "text": [
            "['Michael', 'Sean', 'Adam', 'Paul']\n"
          ]
        }
      ]
    },
    {
      "cell_type": "code",
      "source": [
        "mylist1=[\"Michael\",\"Sean\",\"Adam\"]\n",
        "mylist2=[\"zara\",\"Elina\",\"John\"]\n",
        "mylist2.extend(mylist1)\n",
        "print(mylist2)"
      ],
      "metadata": {
        "colab": {
          "base_uri": "https://localhost:8080/"
        },
        "id": "wRnTJbe_mlfH",
        "outputId": "960bb3ce-a01e-468f-dd60-c55d41cf5a25"
      },
      "execution_count": 73,
      "outputs": [
        {
          "output_type": "stream",
          "name": "stdout",
          "text": [
            "['zara', 'Elina', 'John', 'Michael', 'Sean', 'Adam']\n"
          ]
        }
      ]
    },
    {
      "cell_type": "code",
      "source": [
        "my_list = ['apple','banana','pineapple','pear','orange','grapes']\n",
        "value = input(\"Please enter a fruit:\\n\")\n",
        "if value in my_list:\n",
        "  print(\"{} is in my list\".format(value))\n",
        "elif value not in my_list:\n",
        "  print(\"{} is NOT in my list\".format(value))"
      ],
      "metadata": {
        "colab": {
          "base_uri": "https://localhost:8080/"
        },
        "id": "KU5wbsl1qc-m",
        "outputId": "eb9a81fe-1726-4e55-be86-f10dfd06cb0a"
      },
      "execution_count": 75,
      "outputs": [
        {
          "output_type": "stream",
          "name": "stdout",
          "text": [
            "Please enter a fruit:\n",
            "guava\n",
            "guava is NOT in my list\n"
          ]
        }
      ]
    },
    {
      "cell_type": "markdown",
      "source": [
        "# Tuple"
      ],
      "metadata": {
        "id": "NtnZV93jGQG0"
      }
    },
    {
      "cell_type": "markdown",
      "source": [
        "ordered, unchangeable, allows duplicate()"
      ],
      "metadata": {
        "id": "xp_aOyw5GVOi"
      }
    },
    {
      "cell_type": "code",
      "source": [
        "mytuples=(\"Audi\",\"Ford\",\"Tesla\",5000,True)\n",
        "type(mytuples)"
      ],
      "metadata": {
        "colab": {
          "base_uri": "https://localhost:8080/"
        },
        "id": "VWcLzUf2GfCX",
        "outputId": "4142363a-3353-4679-e9e4-e4bba8c0233a"
      },
      "execution_count": 76,
      "outputs": [
        {
          "output_type": "execute_result",
          "data": {
            "text/plain": [
              "tuple"
            ]
          },
          "metadata": {},
          "execution_count": 76
        }
      ]
    },
    {
      "cell_type": "code",
      "source": [
        "mytuples=(\"Audi\",\"Ford\",\"Tesla\",5000,True)\n",
        "mytuples[0:3]"
      ],
      "metadata": {
        "colab": {
          "base_uri": "https://localhost:8080/"
        },
        "id": "fLAQXQozGxF-",
        "outputId": "de0bd09d-93ba-4a74-af27-885814e49510"
      },
      "execution_count": 77,
      "outputs": [
        {
          "output_type": "execute_result",
          "data": {
            "text/plain": [
              "('Audi', 'Ford', 'Tesla')"
            ]
          },
          "metadata": {},
          "execution_count": 77
        }
      ]
    },
    {
      "cell_type": "code",
      "source": [
        "mytuple=(\"Audi\",\"Ford\",\"Tesla\")\n",
        "mylist=list(mytuple)\n",
        "mylist[0]=\"Toyota\"\n",
        "mytuple=tuple(mylist)\n",
        "print(mytuple)"
      ],
      "metadata": {
        "colab": {
          "base_uri": "https://localhost:8080/"
        },
        "id": "VCYXrkxjG7ZR",
        "outputId": "d26e767c-c9d5-4b20-9a85-e769bd27d953"
      },
      "execution_count": 78,
      "outputs": [
        {
          "output_type": "stream",
          "name": "stdout",
          "text": [
            "('Toyota', 'Ford', 'Tesla')\n"
          ]
        }
      ]
    },
    {
      "cell_type": "code",
      "source": [
        "mytuple=(\"Audi\",\"Ford\",\"Tesla\")\n",
        "print(mytuple.index(\"Tesla\"))"
      ],
      "metadata": {
        "colab": {
          "base_uri": "https://localhost:8080/"
        },
        "id": "K1FfN5jfHWjW",
        "outputId": "cca8e48f-e192-4910-836a-095a5d2f078e"
      },
      "execution_count": 79,
      "outputs": [
        {
          "output_type": "stream",
          "name": "stdout",
          "text": [
            "2\n"
          ]
        }
      ]
    },
    {
      "cell_type": "code",
      "source": [
        "mytuple=(\"Audi\",\"Ford\",\"Audi\",\"Tesla\")\n",
        "print(mytuple.count(\"Audi\"))"
      ],
      "metadata": {
        "colab": {
          "base_uri": "https://localhost:8080/"
        },
        "id": "Q4uz4qXXHlGb",
        "outputId": "b30d9ef1-ff52-4d35-a5e9-05b03940fc94"
      },
      "execution_count": 81,
      "outputs": [
        {
          "output_type": "stream",
          "name": "stdout",
          "text": [
            "2\n"
          ]
        }
      ]
    },
    {
      "cell_type": "code",
      "source": [
        "mytuple=(\"Audi\",\"Ford\",\"Tesla\")\n",
        "for i in mytuple:\n",
        "  print(i)"
      ],
      "metadata": {
        "colab": {
          "base_uri": "https://localhost:8080/"
        },
        "id": "Hbf2Sj-0H49Y",
        "outputId": "9936784a-0225-4b18-8d46-5c2f6a4c66bb"
      },
      "execution_count": 83,
      "outputs": [
        {
          "output_type": "stream",
          "name": "stdout",
          "text": [
            "Audi\n",
            "Ford\n",
            "Tesla\n"
          ]
        }
      ]
    },
    {
      "cell_type": "code",
      "source": [
        "mytuple=(\"Audi\",\"Ford\",\"Tesla\")#unpacking\n",
        "car1,car2,car3 =mytuple#unpacking\n",
        "print(car1)\n",
        "print(car2)\n",
        "print(car3)"
      ],
      "metadata": {
        "colab": {
          "base_uri": "https://localhost:8080/"
        },
        "id": "0F83_6CAIHRo",
        "outputId": "c62c0841-1651-4ba5-c5a5-9820d2f56c07"
      },
      "execution_count": 87,
      "outputs": [
        {
          "output_type": "stream",
          "name": "stdout",
          "text": [
            "Audi\n",
            "Ford\n",
            "Tesla\n"
          ]
        }
      ]
    },
    {
      "cell_type": "markdown",
      "source": [
        "# Sets"
      ],
      "metadata": {
        "id": "WdEz9qrpIhbY"
      }
    },
    {
      "cell_type": "markdown",
      "source": [
        "unordered, unchageable*,not allow duplicates"
      ],
      "metadata": {
        "id": "Zj88OBWeImze"
      }
    },
    {
      "cell_type": "code",
      "source": [
        "myset={\"Audi\",\"Ford\",\"Tesla\",5000,True}\n",
        "type(myset)"
      ],
      "metadata": {
        "colab": {
          "base_uri": "https://localhost:8080/"
        },
        "id": "dkkQoomzI1CD",
        "outputId": "7b1e7ad0-01dd-491a-db58-69f246a3b71d"
      },
      "execution_count": 89,
      "outputs": [
        {
          "output_type": "execute_result",
          "data": {
            "text/plain": [
              "set"
            ]
          },
          "metadata": {},
          "execution_count": 89
        }
      ]
    },
    {
      "cell_type": "code",
      "source": [
        "myset={\"Audi\",\"Ford\",\"Tesla\",5000,True}\n",
        "len(myset)"
      ],
      "metadata": {
        "colab": {
          "base_uri": "https://localhost:8080/"
        },
        "id": "bKYqUHLkJF-s",
        "outputId": "72d95dc8-85ab-461e-bda0-43fd57b06eb0"
      },
      "execution_count": 90,
      "outputs": [
        {
          "output_type": "execute_result",
          "data": {
            "text/plain": [
              "5"
            ]
          },
          "metadata": {},
          "execution_count": 90
        }
      ]
    },
    {
      "cell_type": "code",
      "source": [
        "myset={\"Audi\",\"Ford\",\"Tesla\",5000,True}\n",
        "for i in myset:\n",
        "  print(i)"
      ],
      "metadata": {
        "colab": {
          "base_uri": "https://localhost:8080/"
        },
        "id": "eq8yXnM4JLox",
        "outputId": "dd3ba82d-443c-4d75-b8c1-b8a26d496a93"
      },
      "execution_count": 91,
      "outputs": [
        {
          "output_type": "stream",
          "name": "stdout",
          "text": [
            "True\n",
            "5000\n",
            "Tesla\n",
            "Ford\n",
            "Audi\n"
          ]
        }
      ]
    },
    {
      "cell_type": "code",
      "source": [
        "myset={\"Audi\",\"Ford\",\"Tesla\",5000,True}\n",
        "myset.add(\"BMW\")\n",
        "print(myset)"
      ],
      "metadata": {
        "colab": {
          "base_uri": "https://localhost:8080/"
        },
        "id": "Bkv_WHhiJVFw",
        "outputId": "c6c97c52-4fd0-4b7a-fb01-8f7ba55b47a0"
      },
      "execution_count": 92,
      "outputs": [
        {
          "output_type": "stream",
          "name": "stdout",
          "text": [
            "{True, 5000, 'Tesla', 'Ford', 'Audi', 'BMW'}\n"
          ]
        }
      ]
    },
    {
      "cell_type": "code",
      "source": [
        "myset={\"Audi\",\"Ford\",\"Tesla\",5000,True}\n",
        "myset.pop()\n",
        "print(myset)"
      ],
      "metadata": {
        "colab": {
          "base_uri": "https://localhost:8080/"
        },
        "id": "1SAJnvdXKXUJ",
        "outputId": "6dd003d8-6f26-4f40-d911-b57fa9ebf911"
      },
      "execution_count": 93,
      "outputs": [
        {
          "output_type": "stream",
          "name": "stdout",
          "text": [
            "{5000, 'Tesla', 'Ford', 'Audi'}\n"
          ]
        }
      ]
    },
    {
      "cell_type": "code",
      "source": [
        "myset1={3,4}\n",
        "myset2={1,2,3,4,5,6}\n",
        "myset3=myset1.union(myset2)\n",
        "print(myset3)"
      ],
      "metadata": {
        "colab": {
          "base_uri": "https://localhost:8080/"
        },
        "id": "TXuZRgTOKkbV",
        "outputId": "6a44e6cd-dad7-44fc-ca48-bffcf6d79777"
      },
      "execution_count": 94,
      "outputs": [
        {
          "output_type": "stream",
          "name": "stdout",
          "text": [
            "{1, 2, 3, 4, 5, 6}\n"
          ]
        }
      ]
    },
    {
      "cell_type": "code",
      "source": [
        "myset1={3,4}\n",
        "myset2={1,2,3,4,5,6}\n",
        "myset1.issubset(myset2)"
      ],
      "metadata": {
        "colab": {
          "base_uri": "https://localhost:8080/"
        },
        "id": "x-LljDhwLBoK",
        "outputId": "f62b1f4f-25ed-442c-91d4-eac73f869fd2"
      },
      "execution_count": 95,
      "outputs": [
        {
          "output_type": "execute_result",
          "data": {
            "text/plain": [
              "True"
            ]
          },
          "metadata": {},
          "execution_count": 95
        }
      ]
    },
    {
      "cell_type": "code",
      "source": [
        "myset1={3,4}\n",
        "myset2={1,2,3,4,5,6}\n",
        "myset1.issuperset(myset2)"
      ],
      "metadata": {
        "colab": {
          "base_uri": "https://localhost:8080/"
        },
        "id": "bS9MDxkaLNvU",
        "outputId": "8054a1b2-51c5-4a16-bfea-781dee67eeb2"
      },
      "execution_count": 96,
      "outputs": [
        {
          "output_type": "execute_result",
          "data": {
            "text/plain": [
              "False"
            ]
          },
          "metadata": {},
          "execution_count": 96
        }
      ]
    },
    {
      "cell_type": "code",
      "source": [
        "import numpy as np"
      ],
      "metadata": {
        "id": "xcbhShg_NJMa"
      },
      "execution_count": 97,
      "outputs": []
    },
    {
      "cell_type": "code",
      "source": [
        "import pandas as pd"
      ],
      "metadata": {
        "id": "EkDFQn7nNQM8"
      },
      "execution_count": 98,
      "outputs": []
    },
    {
      "cell_type": "code",
      "source": [
        "import seaborn as sns"
      ],
      "metadata": {
        "id": "abwT5I1FNVZe"
      },
      "execution_count": 99,
      "outputs": []
    },
    {
      "cell_type": "code",
      "source": [
        "import matplotlib.pyplot as plt"
      ],
      "metadata": {
        "id": "8CWfTmvTNaUG"
      },
      "execution_count": 100,
      "outputs": []
    },
    {
      "cell_type": "code",
      "source": [
        "import math"
      ],
      "metadata": {
        "id": "YAXhVpDpNglI"
      },
      "execution_count": 101,
      "outputs": []
    },
    {
      "cell_type": "code",
      "source": [
        "import scipy"
      ],
      "metadata": {
        "id": "vEbpRnBgNlcM"
      },
      "execution_count": 102,
      "outputs": []
    },
    {
      "cell_type": "code",
      "source": [
        "[] #pyodbc"
      ],
      "metadata": {
        "id": "fg16Xy0GOLDl"
      },
      "execution_count": null,
      "outputs": []
    },
    {
      "cell_type": "code",
      "source": [],
      "metadata": {
        "id": "Ub-8YTYcOZ1H"
      },
      "execution_count": null,
      "outputs": []
    }
  ]
}