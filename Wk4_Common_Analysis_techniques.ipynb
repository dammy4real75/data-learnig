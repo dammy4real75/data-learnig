{
  "nbformat": 4,
  "nbformat_minor": 0,
  "metadata": {
    "colab": {
      "provenance": [],
      "include_colab_link": true
    },
    "kernelspec": {
      "name": "python3",
      "display_name": "Python 3"
    },
    "language_info": {
      "name": "python"
    }
  },
  "cells": [
    {
      "cell_type": "markdown",
      "metadata": {
        "id": "view-in-github",
        "colab_type": "text"
      },
      "source": [
        "<a href=\"https://colab.research.google.com/github/dammy4real75/data-learnig/blob/main/Wk4_Common_Analysis_techniques.ipynb\" target=\"_parent\"><img src=\"https://colab.research.google.com/assets/colab-badge.svg\" alt=\"Open In Colab\"/></a>"
      ]
    },
    {
      "cell_type": "code",
      "source": [
        "from google.colab import drive\n",
        "drive.mount('/content/drive')"
      ],
      "metadata": {
        "colab": {
          "base_uri": "https://localhost:8080/"
        },
        "outputId": "5f7ee6d9-94ac-4f34-d7d2-96f3bfb85d47",
        "id": "kysMfxj-zAi3"
      },
      "execution_count": null,
      "outputs": [
        {
          "output_type": "stream",
          "name": "stdout",
          "text": [
            "Mounted at /content/drive\n"
          ]
        }
      ]
    },
    {
      "cell_type": "markdown",
      "source": [
        "# Numpy"
      ],
      "metadata": {
        "id": "nIeBtOxNeRQZ"
      }
    },
    {
      "cell_type": "code",
      "execution_count": null,
      "metadata": {
        "id": "LWs-I9yeqtUj",
        "colab": {
          "base_uri": "https://localhost:8080/"
        },
        "outputId": "d7af0d66-368c-4f4e-f765-c2a6c1edeb3f"
      },
      "outputs": [
        {
          "output_type": "stream",
          "name": "stdout",
          "text": [
            "[1 2 3]\n"
          ]
        }
      ],
      "source": [
        "import numpy\n",
        "arr = numpy.array([1,2,3])\n",
        "print(arr)"
      ]
    },
    {
      "cell_type": "code",
      "source": [
        "import numpy as np\n",
        "arr = np.array([1,2,3])\n",
        "print(arr)"
      ],
      "metadata": {
        "id": "pM1cxDfc1gWK",
        "colab": {
          "base_uri": "https://localhost:8080/"
        },
        "outputId": "6e488c31-ba49-4cb4-b9b9-b13538d6cb98"
      },
      "execution_count": null,
      "outputs": [
        {
          "output_type": "stream",
          "name": "stdout",
          "text": [
            "[1 2 3]\n"
          ]
        }
      ]
    },
    {
      "cell_type": "code",
      "source": [
        "#Numpy arrays using tuples\n",
        "arr = np.array((1,2,3))\n",
        "print(arr)"
      ],
      "metadata": {
        "id": "mCqPIsV21zkJ",
        "colab": {
          "base_uri": "https://localhost:8080/"
        },
        "outputId": "c7211e9b-e066-4fd4-de09-4dbc20618124"
      },
      "execution_count": null,
      "outputs": [
        {
          "output_type": "stream",
          "name": "stdout",
          "text": [
            "[1 2 3]\n"
          ]
        }
      ]
    },
    {
      "cell_type": "code",
      "source": [
        "#o Dimension array\n",
        "arr_0 = np.array(12)\n",
        "print(arr_0)"
      ],
      "metadata": {
        "id": "RCBq6egL1_j5",
        "colab": {
          "base_uri": "https://localhost:8080/"
        },
        "outputId": "83fc3f11-ca42-459b-9620-e2e9b2d73452"
      },
      "execution_count": null,
      "outputs": [
        {
          "output_type": "stream",
          "name": "stdout",
          "text": [
            "12\n"
          ]
        }
      ]
    },
    {
      "cell_type": "code",
      "source": [
        "#1 Dimension array\n",
        "arr_1 = np.array([1,3,45,78])\n",
        "print(arr_1)"
      ],
      "metadata": {
        "id": "LGUK9Ipm2CqZ",
        "colab": {
          "base_uri": "https://localhost:8080/"
        },
        "outputId": "d2c52703-61b2-437e-af07-96dba92ddce3"
      },
      "execution_count": null,
      "outputs": [
        {
          "output_type": "stream",
          "name": "stdout",
          "text": [
            "[ 1  3 45 78]\n"
          ]
        }
      ]
    },
    {
      "cell_type": "code",
      "source": [
        "#2 Dimension array\n",
        "arr_2 = np.array([[1,3,45,78],[3,7,4,98]])\n",
        "print(arr_2)"
      ],
      "metadata": {
        "id": "Q35fRaZQ2CuJ",
        "colab": {
          "base_uri": "https://localhost:8080/"
        },
        "outputId": "d56f74af-4576-477e-b226-4a7958b5f209"
      },
      "execution_count": null,
      "outputs": [
        {
          "output_type": "stream",
          "name": "stdout",
          "text": [
            "[[ 1  3 45 78]\n",
            " [ 3  7  4 98]]\n"
          ]
        }
      ]
    },
    {
      "cell_type": "code",
      "source": [
        "#3 Dimension array\n",
        "arr_3 = np.array([[[1,3,45,78],[3,7,4,98],[4,9,3,7]]])\n",
        "print(arr_3)"
      ],
      "metadata": {
        "id": "hZ0Q-MO251NM",
        "colab": {
          "base_uri": "https://localhost:8080/"
        },
        "outputId": "45d5433c-078f-4dd2-f563-0bd450fc213d"
      },
      "execution_count": null,
      "outputs": [
        {
          "output_type": "stream",
          "name": "stdout",
          "text": [
            "[[[ 1  3 45 78]\n",
            "  [ 3  7  4 98]\n",
            "  [ 4  9  3  7]]]\n"
          ]
        }
      ]
    },
    {
      "cell_type": "code",
      "source": [
        "# .ndim\n",
        "print(\"Dimension of 0 dimensional array =\",arr_0.ndim)\n",
        "print(\"Dimension of 1 dimensional array =\",arr_1.ndim)\n",
        "print(\"Dimension of 2 dimensional array =\",arr_2.ndim)\n",
        "print(\"Dimension of 3 dimensional array =\",arr_3.ndim)"
      ],
      "metadata": {
        "id": "4nn5LYkU6LTL",
        "colab": {
          "base_uri": "https://localhost:8080/"
        },
        "outputId": "bc3c2454-b29c-465a-a1fb-f26e2f2e3abc"
      },
      "execution_count": null,
      "outputs": [
        {
          "output_type": "stream",
          "name": "stdout",
          "text": [
            "Dimension of 0 dimensional array = 0\n",
            "Dimension of 1 dimensional array = 1\n",
            "Dimension of 2 dimensional array = 2\n",
            "Dimension of 3 dimensional array = 3\n"
          ]
        }
      ]
    },
    {
      "cell_type": "code",
      "source": [
        "# .shape\n",
        "print(\"Shape of 0 dimensional array =\",arr_0.shape)\n",
        "print(\"Shape of 1 dimensional array =\",arr_1.shape)\n",
        "print(\"Shape of 2 dimensional array =\",arr_2.shape)\n",
        "print(\"Shape of 3 dimensional array =\",arr_3.shape)"
      ],
      "metadata": {
        "id": "cAJ6rvoV6LxL",
        "colab": {
          "base_uri": "https://localhost:8080/"
        },
        "outputId": "9aa6ba85-fe10-44a6-f6a0-dc652f4368c1"
      },
      "execution_count": null,
      "outputs": [
        {
          "output_type": "stream",
          "name": "stdout",
          "text": [
            "Shape of 0 dimensional array = ()\n",
            "Shape of 1 dimensional array = (4,)\n",
            "Shape of 2 dimensional array = (2, 4)\n",
            "Shape of 3 dimensional array = (1, 3, 4)\n"
          ]
        }
      ]
    },
    {
      "cell_type": "code",
      "source": [
        "# All zeros array\n",
        "array_zeros = np.zeros(5)\n",
        "print(array_zeros)"
      ],
      "metadata": {
        "id": "RSVZVDNi8RrM",
        "colab": {
          "base_uri": "https://localhost:8080/"
        },
        "outputId": "0f3e2d78-d555-4deb-b788-9b8c2a52caa5"
      },
      "execution_count": null,
      "outputs": [
        {
          "output_type": "stream",
          "name": "stdout",
          "text": [
            "[0. 0. 0. 0. 0.]\n"
          ]
        }
      ]
    },
    {
      "cell_type": "code",
      "source": [
        "# All ones array\n",
        "array_ones = np.ones(5)\n",
        "print(array_ones)"
      ],
      "metadata": {
        "id": "kzTcLY1D8R7a",
        "colab": {
          "base_uri": "https://localhost:8080/"
        },
        "outputId": "009c729f-ac6d-4d0f-c867-c125f3baa47d"
      },
      "execution_count": null,
      "outputs": [
        {
          "output_type": "stream",
          "name": "stdout",
          "text": [
            "[1. 1. 1. 1. 1.]\n"
          ]
        }
      ]
    },
    {
      "cell_type": "code",
      "source": [
        "# Array with random values\n",
        "random_array = np.random.rand(3,2)\n",
        "print(random_array)"
      ],
      "metadata": {
        "id": "6dpTahTvfxPD",
        "colab": {
          "base_uri": "https://localhost:8080/"
        },
        "outputId": "73912fec-6b9b-448e-e2b6-787f806307dd"
      },
      "execution_count": null,
      "outputs": [
        {
          "output_type": "stream",
          "name": "stdout",
          "text": [
            "[[0.14992694 0.9841864 ]\n",
            " [0.62289299 0.99957684]\n",
            " [0.91745594 0.61182769]]\n"
          ]
        }
      ]
    },
    {
      "cell_type": "code",
      "source": [
        "# Create an array of evenly-spaced values\n",
        "np.arange(10,25,5)"
      ],
      "metadata": {
        "id": "vlXbOPn-fxR5",
        "colab": {
          "base_uri": "https://localhost:8080/"
        },
        "outputId": "7c5d9529-d8ea-4f3b-aeca-e9ae17dbc98d"
      },
      "execution_count": null,
      "outputs": [
        {
          "output_type": "execute_result",
          "data": {
            "text/plain": [
              "array([10, 15, 20])"
            ]
          },
          "metadata": {},
          "execution_count": 9
        }
      ]
    },
    {
      "cell_type": "code",
      "source": [
        "data_2 = numpy.array([[0,1,2],[3,4,5]])\n",
        "numpy.transpose(data_2)"
      ],
      "metadata": {
        "id": "N7SARhKlfxVK",
        "colab": {
          "base_uri": "https://localhost:8080/"
        },
        "outputId": "f5b7af6e-6087-4c3d-fc1c-23c125077fa4"
      },
      "execution_count": null,
      "outputs": [
        {
          "output_type": "execute_result",
          "data": {
            "text/plain": [
              "array([[0, 3],\n",
              "       [1, 4],\n",
              "       [2, 5]])"
            ]
          },
          "metadata": {},
          "execution_count": 19
        }
      ]
    },
    {
      "cell_type": "code",
      "source": [
        "data = numpy.array(\n",
        "[[\n",
        "    [12, 67],\n",
        "    [35, 90]\n",
        "  ],\n",
        "  [\n",
        "    [12, 3],\n",
        "    [8, 27]  \n",
        "  ]])\n",
        "data.reshape(2,4)"
      ],
      "metadata": {
        "id": "mQiX1C35g_ul",
        "colab": {
          "base_uri": "https://localhost:8080/"
        },
        "outputId": "16cf123f-87da-4df1-aeab-7a761354ac95"
      },
      "execution_count": null,
      "outputs": [
        {
          "output_type": "execute_result",
          "data": {
            "text/plain": [
              "array([[12, 67, 35, 90],\n",
              "       [12,  3,  8, 27]])"
            ]
          },
          "metadata": {},
          "execution_count": 3
        }
      ]
    },
    {
      "cell_type": "code",
      "source": [
        "# Indexing\n",
        "import numpy as np\n",
        "arr_index = np.arange(0,11)\n",
        "print(arr_index)"
      ],
      "metadata": {
        "id": "iNUqAnoPg_xc",
        "colab": {
          "base_uri": "https://localhost:8080/"
        },
        "outputId": "5003c515-80e0-4eda-85de-fdd2993dfe48"
      },
      "execution_count": null,
      "outputs": [
        {
          "output_type": "stream",
          "name": "stdout",
          "text": [
            "[ 0  1  2  3  4  5  6  7  8  9 10]\n"
          ]
        }
      ]
    },
    {
      "cell_type": "code",
      "source": [
        "# Get the 5th and 7th element in the array\n",
        "print(arr_index[5])\n",
        "print(arr_index[7])"
      ],
      "metadata": {
        "id": "TuwjJnywlEW8",
        "colab": {
          "base_uri": "https://localhost:8080/"
        },
        "outputId": "3ee9cda4-f9ec-430b-c93a-40d9b03401cb"
      },
      "execution_count": null,
      "outputs": [
        {
          "output_type": "stream",
          "name": "stdout",
          "text": [
            "5\n",
            "7\n"
          ]
        }
      ]
    },
    {
      "cell_type": "code",
      "source": [
        "# 2-D arrays\n",
        "arr_2_index = np.array([[1, 2, 3],\n",
        "              [4, 5, 6],\n",
        "              [7, 8, 9]])\n",
        "print(arr_2_index)\n"
      ],
      "metadata": {
        "id": "3VDKPnPylEdD",
        "colab": {
          "base_uri": "https://localhost:8080/"
        },
        "outputId": "8aa5af37-333b-4ab3-e5bd-90e68c03bc5b"
      },
      "execution_count": null,
      "outputs": [
        {
          "output_type": "stream",
          "name": "stdout",
          "text": [
            "[[1 2 3]\n",
            " [4 5 6]\n",
            " [7 8 9]]\n"
          ]
        }
      ]
    },
    {
      "cell_type": "code",
      "source": [
        "print(arr_2_index[2][0])"
      ],
      "metadata": {
        "id": "-EWXBdujlEk7",
        "colab": {
          "base_uri": "https://localhost:8080/"
        },
        "outputId": "b9d721de-7063-43f2-e062-5f9626c59d55"
      },
      "execution_count": null,
      "outputs": [
        {
          "output_type": "stream",
          "name": "stdout",
          "text": [
            "7\n"
          ]
        }
      ]
    },
    {
      "cell_type": "code",
      "source": [
        "print(arr_2_index[1][1])"
      ],
      "metadata": {
        "id": "UU07DV_Zg_0a",
        "colab": {
          "base_uri": "https://localhost:8080/"
        },
        "outputId": "6b546700-72e7-410e-e4c9-4488aa90e24c"
      },
      "execution_count": null,
      "outputs": [
        {
          "output_type": "stream",
          "name": "stdout",
          "text": [
            "5\n"
          ]
        }
      ]
    },
    {
      "cell_type": "code",
      "source": [
        "# Create a new sliced array and copy elements from the original array\n",
        "sliced_arr = arr_index[5:8]\n",
        "print(sliced_arr)"
      ],
      "metadata": {
        "id": "wMDD2UkfsjX-",
        "colab": {
          "base_uri": "https://localhost:8080/"
        },
        "outputId": "459403c7-f7de-40d1-9181-60b800e9e9e8"
      },
      "execution_count": null,
      "outputs": [
        {
          "output_type": "stream",
          "name": "stdout",
          "text": [
            "[5 6 7]\n"
          ]
        }
      ]
    },
    {
      "cell_type": "code",
      "source": [
        "# Change an element of the sliced array at 2nd location\n",
        "sliced_arr[2] = 90\n",
        "print(sliced_arr)"
      ],
      "metadata": {
        "id": "JpdyEL4buikl",
        "colab": {
          "base_uri": "https://localhost:8080/"
        },
        "outputId": "3917c880-d9fa-4fae-bb45-d8c28568f31b"
      },
      "execution_count": null,
      "outputs": [
        {
          "output_type": "stream",
          "name": "stdout",
          "text": [
            "[ 5  6 90]\n"
          ]
        }
      ]
    },
    {
      "cell_type": "code",
      "source": [
        "# Check original array\n",
        "print(arr_index)"
      ],
      "metadata": {
        "id": "6ZH4kHRDuird",
        "colab": {
          "base_uri": "https://localhost:8080/"
        },
        "outputId": "cbbc480f-b7ef-47e3-bc4a-b8c2cc4c204d"
      },
      "execution_count": null,
      "outputs": [
        {
          "output_type": "stream",
          "name": "stdout",
          "text": [
            "[ 0  1  2  3  4  5  6 90  8  9 10]\n"
          ]
        }
      ]
    },
    {
      "cell_type": "code",
      "source": [
        "# Picking value in a range\n",
        "arr_index[5:8]"
      ],
      "metadata": {
        "id": "7r8YshymuizG",
        "colab": {
          "base_uri": "https://localhost:8080/"
        },
        "outputId": "7e87494c-a3f6-49d0-fe64-8c590c1f044c"
      },
      "execution_count": null,
      "outputs": [
        {
          "output_type": "execute_result",
          "data": {
            "text/plain": [
              "array([ 5,  6, 90])"
            ]
          },
          "metadata": {},
          "execution_count": 31
        }
      ]
    },
    {
      "cell_type": "code",
      "source": [
        "# 2-D Arrays\n",
        "arr_2_index = np.array([[1,2,3],\n",
        "                        [4,5,6],\n",
        "                        [7,8,9]])\n",
        "print(arr_2_index)"
      ],
      "metadata": {
        "id": "G0M4kEnGvrSP",
        "colab": {
          "base_uri": "https://localhost:8080/"
        },
        "outputId": "da798fed-eb90-4ee7-ba83-eea59e57b544"
      },
      "execution_count": null,
      "outputs": [
        {
          "output_type": "stream",
          "name": "stdout",
          "text": [
            "[[1 2 3]\n",
            " [4 5 6]\n",
            " [7 8 9]]\n"
          ]
        }
      ]
    },
    {
      "cell_type": "code",
      "source": [
        "# Change the 1st row\n",
        "arr_2_index[1] = [3,12,9]\n",
        "print(arr_2_index)"
      ],
      "metadata": {
        "id": "I5KBmrL612jY",
        "colab": {
          "base_uri": "https://localhost:8080/"
        },
        "outputId": "0a0933de-17d2-49b4-ac8e-79e79b636d9d"
      },
      "execution_count": null,
      "outputs": [
        {
          "output_type": "stream",
          "name": "stdout",
          "text": [
            "[[ 1  2  3]\n",
            " [ 3 12  9]\n",
            " [ 7  8  9]]\n"
          ]
        }
      ]
    },
    {
      "cell_type": "code",
      "source": [
        "# Change the 3rd column\n",
        "arr_2_index[:,2] = [4,9,2]\n",
        "print(arr_2_index)"
      ],
      "metadata": {
        "id": "wVHa8nYO2EPw",
        "colab": {
          "base_uri": "https://localhost:8080/"
        },
        "outputId": "4ba0ebce-7e7d-46f7-c2ee-fbc67e65ecb9"
      },
      "execution_count": null,
      "outputs": [
        {
          "output_type": "stream",
          "name": "stdout",
          "text": [
            "[[ 1  2  4]\n",
            " [ 3 12  9]\n",
            " [ 7  8  2]]\n"
          ]
        }
      ]
    },
    {
      "cell_type": "code",
      "source": [
        "import numpy as np\n",
        "arr = np.array([[1,23,78],[98,60,75],[79,25,48]])  \n",
        "print(arr)\n",
        "#Minimum Function\n",
        "print(np.amin(arr))\n",
        "#Maximum Function\n",
        "print(np.amax(arr))"
      ],
      "metadata": {
        "id": "a9Db4hxf2SWY",
        "colab": {
          "base_uri": "https://localhost:8080/"
        },
        "outputId": "33b984b7-954a-4030-e4b0-c0a1619973b0"
      },
      "execution_count": null,
      "outputs": [
        {
          "output_type": "stream",
          "name": "stdout",
          "text": [
            "[[ 1 23 78]\n",
            " [98 60 75]\n",
            " [79 25 48]]\n",
            "1\n",
            "98\n"
          ]
        }
      ]
    },
    {
      "cell_type": "code",
      "source": [
        "#Mean and #Median\n",
        "import numpy as np\n",
        "arr_mean = np.array([24,89,45]) \n",
        "print(arr_mean)\n",
        "print(np.mean(arr_mean))"
      ],
      "metadata": {
        "id": "Winr5imJI-o_",
        "colab": {
          "base_uri": "https://localhost:8080/"
        },
        "outputId": "cab14b01-024b-4417-d384-190e17ad5b2c"
      },
      "execution_count": null,
      "outputs": [
        {
          "output_type": "stream",
          "name": "stdout",
          "text": [
            "[24 89 45]\n",
            "52.666666666666664\n"
          ]
        }
      ]
    },
    {
      "cell_type": "code",
      "source": [
        "import numpy as np\n",
        "arr_median = np.array([24,89,45]) \n",
        "print(arr_median)\n",
        "print(np.median(arr_median))"
      ],
      "metadata": {
        "id": "I9UZpjw0I-r-",
        "colab": {
          "base_uri": "https://localhost:8080/"
        },
        "outputId": "861f2da2-f5e4-4128-ed12-358eed69438f"
      },
      "execution_count": null,
      "outputs": [
        {
          "output_type": "stream",
          "name": "stdout",
          "text": [
            "[24 89 45]\n",
            "45.0\n"
          ]
        }
      ]
    },
    {
      "cell_type": "code",
      "source": [
        "#Standard deviation\n",
        "arr_std = np.array([24,89,45]) \n",
        "print(arr_std)\n",
        "print(np.std(arr_std))"
      ],
      "metadata": {
        "id": "4858lQ96I-uc",
        "colab": {
          "base_uri": "https://localhost:8080/"
        },
        "outputId": "536d8e7c-7413-48b7-a847-bafd5b5bb6ad"
      },
      "execution_count": null,
      "outputs": [
        {
          "output_type": "stream",
          "name": "stdout",
          "text": [
            "[24 89 45]\n",
            "27.0842307543625\n"
          ]
        }
      ]
    },
    {
      "cell_type": "code",
      "source": [
        "arr_var = np.array([24,89,45]) \n",
        "print(arr_var)\n",
        "print(np.var(arr_var))"
      ],
      "metadata": {
        "id": "mSEi4ke2LDat",
        "colab": {
          "base_uri": "https://localhost:8080/"
        },
        "outputId": "8670ac6f-421f-430e-a0f7-16ec07c3eb83"
      },
      "execution_count": null,
      "outputs": [
        {
          "output_type": "stream",
          "name": "stdout",
          "text": [
            "[24 89 45]\n",
            "733.5555555555555\n"
          ]
        }
      ]
    },
    {
      "cell_type": "code",
      "source": [
        "arr_bool = np.array([[-1, 2, 3],\n",
        "              [4, 5, -6],\n",
        "              [7, -8, 9]])\n",
        "print(arr_bool)"
      ],
      "metadata": {
        "id": "IdOPdWTxOD8D",
        "colab": {
          "base_uri": "https://localhost:8080/"
        },
        "outputId": "0e527dc1-7b9d-4568-ddad-a3e0e6880c09"
      },
      "execution_count": null,
      "outputs": [
        {
          "output_type": "stream",
          "name": "stdout",
          "text": [
            "[[-1  2  3]\n",
            " [ 4  5 -6]\n",
            " [ 7 -8  9]]\n"
          ]
        }
      ]
    },
    {
      "cell_type": "code",
      "source": [
        "# We need to check positive values \n",
        "post_values = (arr_bool > 0)\n",
        "print(post_values)"
      ],
      "metadata": {
        "id": "g5DSovmxOECc",
        "colab": {
          "base_uri": "https://localhost:8080/"
        },
        "outputId": "ccbc2fc4-717a-4c65-e874-b46599d64f1b"
      },
      "execution_count": null,
      "outputs": [
        {
          "output_type": "stream",
          "name": "stdout",
          "text": [
            "[[False  True  True]\n",
            " [ True  True False]\n",
            " [ True False  True]]\n"
          ]
        }
      ]
    },
    {
      "cell_type": "code",
      "source": [
        "# Convert negative values to 0\n",
        "arr_bool[arr_bool <  0] = 0\n",
        "print(arr_bool)"
      ],
      "metadata": {
        "id": "0iJmwYXoOEGT",
        "colab": {
          "base_uri": "https://localhost:8080/"
        },
        "outputId": "13aa7339-78d2-4b67-9604-d63dbf625a3a"
      },
      "execution_count": null,
      "outputs": [
        {
          "output_type": "stream",
          "name": "stdout",
          "text": [
            "[[0 2 3]\n",
            " [4 5 0]\n",
            " [7 0 9]]\n"
          ]
        }
      ]
    },
    {
      "cell_type": "code",
      "source": [
        "# any & all\n",
        "# Check if any of the values in the array is positive\n",
        "post_values.any()"
      ],
      "metadata": {
        "id": "POXOyXeOLDds",
        "colab": {
          "base_uri": "https://localhost:8080/"
        },
        "outputId": "2b0af956-da40-4a91-c100-b997741d2dab"
      },
      "execution_count": null,
      "outputs": [
        {
          "output_type": "execute_result",
          "data": {
            "text/plain": [
              "True"
            ]
          },
          "metadata": {},
          "execution_count": 40
        }
      ]
    },
    {
      "cell_type": "code",
      "source": [
        "# any & all\n",
        "# Check if any of the values in the array is positive\n",
        "post_values.all()"
      ],
      "metadata": {
        "id": "NQ0dc7yON0nN",
        "colab": {
          "base_uri": "https://localhost:8080/"
        },
        "outputId": "79b12d95-8f8b-4ebb-9945-c75d3fdf2cec"
      },
      "execution_count": null,
      "outputs": [
        {
          "output_type": "execute_result",
          "data": {
            "text/plain": [
              "False"
            ]
          },
          "metadata": {},
          "execution_count": 41
        }
      ]
    },
    {
      "cell_type": "code",
      "source": [
        "# Sort a given array\n",
        "arr_sort = np.random.randn(5)\n",
        "print(arr_sort)\n",
        "arr_sort.sort()\n",
        "print(arr_sort)"
      ],
      "metadata": {
        "id": "8eZ2NhsON0tt",
        "colab": {
          "base_uri": "https://localhost:8080/"
        },
        "outputId": "8ea85123-eae2-4e8f-ef6e-abc71d144e1b"
      },
      "execution_count": null,
      "outputs": [
        {
          "output_type": "stream",
          "name": "stdout",
          "text": [
            "[-1.84711311  0.19498072 -0.5323592   0.96092443  0.50509394]\n",
            "[-1.84711311 -0.5323592   0.19498072  0.50509394  0.96092443]\n"
          ]
        }
      ]
    },
    {
      "cell_type": "code",
      "source": [
        "# Unique\n",
        "arr_names = ['John' , 'Bob' , 'Adam', 'Bob', 'John' , 'John']\n",
        "np.unique(arr_names)"
      ],
      "metadata": {
        "id": "GvK227xFPugd",
        "colab": {
          "base_uri": "https://localhost:8080/"
        },
        "outputId": "75ccf217-937a-4ece-b085-82c3d0b77586"
      },
      "execution_count": null,
      "outputs": [
        {
          "output_type": "execute_result",
          "data": {
            "text/plain": [
              "array(['3', 'Adam', 'Bob', 'John'], dtype='<U21')"
            ]
          },
          "metadata": {},
          "execution_count": 46
        }
      ]
    },
    {
      "cell_type": "markdown",
      "source": [
        "# File Handling"
      ],
      "metadata": {
        "id": "jKxcSqYVdnm5"
      }
    },
    {
      "cell_type": "code",
      "source": [
        "file_handle = open(\"/content/sample_data/file_example.txt\")  #If using local runtime (not Drive) then file location should be the same as this notebook. Full path not required.\n",
        "print(file_handle.read()) #Read and print file using file_handle object."
      ],
      "metadata": {
        "id": "J9sf74X0v93R",
        "colab": {
          "base_uri": "https://localhost:8080/"
        },
        "outputId": "9375d22b-5c3e-4409-fef7-4edfaa6e4dde"
      },
      "execution_count": 6,
      "outputs": [
        {
          "output_type": "stream",
          "name": "stdout",
          "text": [
            "This is line 1 of the text file.\n",
            "This is line 2 of the text file.\n",
            "This is line 3 of the text file.\n"
          ]
        }
      ]
    },
    {
      "cell_type": "code",
      "source": [
        "file_handle.seek(0) # Set file seek pointer to 0 location\n",
        "print(file_handle.read(33)) # The first line comprises 33 characters"
      ],
      "metadata": {
        "colab": {
          "base_uri": "https://localhost:8080/"
        },
        "id": "2loQRx7mwBVg",
        "outputId": "95af7a3b-5d3f-411e-cbda-eeb35250239c"
      },
      "execution_count": 8,
      "outputs": [
        {
          "output_type": "stream",
          "name": "stdout",
          "text": [
            "This is line 1 of the text file.\n",
            "\n"
          ]
        }
      ]
    },
    {
      "cell_type": "code",
      "source": [
        "print(file_handle.readline()) #As we didn't reset the file pointer, Readline will start reading ahead of the previous location\n",
        "file_handle.close() # Its good housekeeping to close the file "
      ],
      "metadata": {
        "colab": {
          "base_uri": "https://localhost:8080/"
        },
        "id": "cFZemlwRwBY5",
        "outputId": "24fc199b-fe07-4fe8-e659-ebe17bad1213"
      },
      "execution_count": 9,
      "outputs": [
        {
          "output_type": "stream",
          "name": "stdout",
          "text": [
            "This is line 2 of the text file.\n",
            "\n"
          ]
        }
      ]
    },
    {
      "cell_type": "code",
      "source": [
        "file_handle = open(\"/data.txt\", \"a\") # Set the append mode to add more text to the file without overwriting\n",
        "file_handle.write(\"This is line 4 of the text file\") # Write to the file\n",
        "file_handle.close() # Close the file\n"
      ],
      "metadata": {
        "id": "u-fsQPsD_H5u"
      },
      "execution_count": 13,
      "outputs": []
    },
    {
      "cell_type": "code",
      "source": [
        "file_handle = open(\"/data.txt\")  #If using local runtime (not Drive) then file location should be the same as this notebook. Full path not required.\n",
        "print(file_handle.read())"
      ],
      "metadata": {
        "colab": {
          "base_uri": "https://localhost:8080/"
        },
        "id": "UPi2KHYIYCaS",
        "outputId": "fcc64314-32f9-4364-e13c-3e050558423c"
      },
      "execution_count": 16,
      "outputs": [
        {
          "output_type": "stream",
          "name": "stdout",
          "text": [
            "1,2,3,4,5,6,7,8,9,10This is line 4 of the text file\n"
          ]
        }
      ]
    },
    {
      "cell_type": "code",
      "source": [
        "#Example: Read coma-separated numeric data from a file, convert it to list of numbers.​\n",
        "#Open and read complete data file. Save data to string variable​\n",
        "file_handle = open(\"/data.txt\")\n",
        "data = file_handle.read()\n",
        "print(data)\n",
        "file_handle.close()\n",
        "\n",
        "#Seperate the data based on comma in a list​\n",
        "my_list = data.split(\",\")\n",
        "print(my_list)\n",
        "\n",
        "#Convert string elements in numerics​\n",
        "for element in range(len(my_list)):\n",
        "    my_list[element] = int(my_list[element])\n",
        "print(my_list)"
      ],
      "metadata": {
        "id": "PAK_5Gxs_H8l",
        "colab": {
          "base_uri": "https://localhost:8080/",
          "height": 252
        },
        "outputId": "9c591b2c-41b8-4bbf-e91b-52ac4a55ad4d"
      },
      "execution_count": 18,
      "outputs": [
        {
          "output_type": "stream",
          "name": "stdout",
          "text": [
            "1,2,3,4,5,6,7,8,9,10This is line 4 of the text file\n",
            "['1', '2', '3', '4', '5', '6', '7', '8', '9', '10This is line 4 of the text file']\n"
          ]
        },
        {
          "output_type": "error",
          "ename": "ValueError",
          "evalue": "ignored",
          "traceback": [
            "\u001b[0;31m---------------------------------------------------------------------------\u001b[0m",
            "\u001b[0;31mValueError\u001b[0m                                Traceback (most recent call last)",
            "\u001b[0;32m<ipython-input-18-aec5288471e0>\u001b[0m in \u001b[0;36m<module>\u001b[0;34m\u001b[0m\n\u001b[1;32m     12\u001b[0m \u001b[0;31m#Convert string elements in numerics​\u001b[0m\u001b[0;34m\u001b[0m\u001b[0;34m\u001b[0m\u001b[0;34m\u001b[0m\u001b[0m\n\u001b[1;32m     13\u001b[0m \u001b[0;32mfor\u001b[0m \u001b[0melement\u001b[0m \u001b[0;32min\u001b[0m \u001b[0mrange\u001b[0m\u001b[0;34m(\u001b[0m\u001b[0mlen\u001b[0m\u001b[0;34m(\u001b[0m\u001b[0mmy_list\u001b[0m\u001b[0;34m)\u001b[0m\u001b[0;34m)\u001b[0m\u001b[0;34m:\u001b[0m\u001b[0;34m\u001b[0m\u001b[0;34m\u001b[0m\u001b[0m\n\u001b[0;32m---> 14\u001b[0;31m     \u001b[0mmy_list\u001b[0m\u001b[0;34m[\u001b[0m\u001b[0melement\u001b[0m\u001b[0;34m]\u001b[0m \u001b[0;34m=\u001b[0m \u001b[0mint\u001b[0m\u001b[0;34m(\u001b[0m\u001b[0mmy_list\u001b[0m\u001b[0;34m[\u001b[0m\u001b[0melement\u001b[0m\u001b[0;34m]\u001b[0m\u001b[0;34m)\u001b[0m\u001b[0;34m\u001b[0m\u001b[0;34m\u001b[0m\u001b[0m\n\u001b[0m\u001b[1;32m     15\u001b[0m \u001b[0mprint\u001b[0m\u001b[0;34m(\u001b[0m\u001b[0mmy_list\u001b[0m\u001b[0;34m)\u001b[0m\u001b[0;34m\u001b[0m\u001b[0;34m\u001b[0m\u001b[0m\n",
            "\u001b[0;31mValueError\u001b[0m: invalid literal for int() with base 10: '10This is line 4 of the text file'"
          ]
        }
      ]
    },
    {
      "cell_type": "code",
      "source": [],
      "metadata": {
        "id": "LQi3y3GQvQ9y"
      },
      "execution_count": 19,
      "outputs": []
    },
    {
      "cell_type": "code",
      "source": [
        "import"
      ],
      "metadata": {
        "id": "rK2LId_yvS5B"
      },
      "execution_count": null,
      "outputs": []
    },
    {
      "cell_type": "markdown",
      "source": [
        "# Pandas"
      ],
      "metadata": {
        "id": "26PlK79edwMi"
      }
    },
    {
      "cell_type": "code",
      "source": [
        "import pandas as pd\n",
        "import numpy as np\n",
        "arr = np.array(['Adam', 'Bob', 'John'])\n",
        "ser = pd.Series(arr)\n",
        "print(ser)"
      ],
      "metadata": {
        "id": "s_hc4wA-PujU",
        "colab": {
          "base_uri": "https://localhost:8080/"
        },
        "outputId": "9a2784d6-0062-47a5-f48c-bd922f3636d2"
      },
      "execution_count": 20,
      "outputs": [
        {
          "output_type": "stream",
          "name": "stdout",
          "text": [
            "0    Adam\n",
            "1     Bob\n",
            "2    John\n",
            "dtype: object\n"
          ]
        }
      ]
    },
    {
      "cell_type": "code",
      "source": [
        "# Create index \n",
        "arr = np.array(['Adam' , 'Bob' , 'John'])\n",
        "ser = pd.Series(arr,index = ['a','b','j'])\n",
        "print(ser)"
      ],
      "metadata": {
        "id": "0JvaeencN0wr",
        "colab": {
          "base_uri": "https://localhost:8080/"
        },
        "outputId": "f57ccfaa-5bc7-47f2-f610-d7356ad8152a"
      },
      "execution_count": 21,
      "outputs": [
        {
          "output_type": "stream",
          "name": "stdout",
          "text": [
            "a    Adam\n",
            "b     Bob\n",
            "j    John\n",
            "dtype: object\n"
          ]
        }
      ]
    },
    {
      "cell_type": "code",
      "source": [
        "arr = np.array(['Adam' , 'Bob' , 'John', 'Hamza', 'Maria', 'Robert'])\n",
        "ser_names = pd.Series(arr)\n",
        "print(ser_names)"
      ],
      "metadata": {
        "id": "C5y78PJXbMhi",
        "colab": {
          "base_uri": "https://localhost:8080/"
        },
        "outputId": "1fab3aea-649b-4b83-d9f0-b9f723fe0d26"
      },
      "execution_count": 22,
      "outputs": [
        {
          "output_type": "stream",
          "name": "stdout",
          "text": [
            "0      Adam\n",
            "1       Bob\n",
            "2      John\n",
            "3     Hamza\n",
            "4     Maria\n",
            "5    Robert\n",
            "dtype: object\n"
          ]
        }
      ]
    },
    {
      "cell_type": "code",
      "source": [
        "# Getting index\n",
        "ser_names[0:3]"
      ],
      "metadata": {
        "id": "QVtK_4kabMkZ",
        "colab": {
          "base_uri": "https://localhost:8080/"
        },
        "outputId": "b2d1fb57-6dfe-4ec4-89c9-37d94e2b6091"
      },
      "execution_count": 23,
      "outputs": [
        {
          "output_type": "execute_result",
          "data": {
            "text/plain": [
              "0    Adam\n",
              "1     Bob\n",
              "2    John\n",
              "dtype: object"
            ]
          },
          "metadata": {},
          "execution_count": 23
        }
      ]
    },
    {
      "cell_type": "code",
      "source": [
        "# Loc\n",
        "ser_names.loc[0:3]"
      ],
      "metadata": {
        "id": "dr3PQgmkdzFx",
        "colab": {
          "base_uri": "https://localhost:8080/"
        },
        "outputId": "bd040e54-e571-4705-820c-2b5a15751c41"
      },
      "execution_count": 24,
      "outputs": [
        {
          "output_type": "execute_result",
          "data": {
            "text/plain": [
              "0     Adam\n",
              "1      Bob\n",
              "2     John\n",
              "3    Hamza\n",
              "dtype: object"
            ]
          },
          "metadata": {},
          "execution_count": 24
        }
      ]
    },
    {
      "cell_type": "code",
      "source": [
        "# iLoc\n",
        "ser_names.iloc[0:3]"
      ],
      "metadata": {
        "id": "4oAr72U-dzIb",
        "colab": {
          "base_uri": "https://localhost:8080/"
        },
        "outputId": "49106d7a-1bb4-40db-992a-4a8ab5ebd3e5"
      },
      "execution_count": 25,
      "outputs": [
        {
          "output_type": "execute_result",
          "data": {
            "text/plain": [
              "0    Adam\n",
              "1     Bob\n",
              "2    John\n",
              "dtype: object"
            ]
          },
          "metadata": {},
          "execution_count": 25
        }
      ]
    },
    {
      "cell_type": "code",
      "source": [
        "import pandas as pd\n",
        "# Create dataframe\n",
        "data = pd.DataFrame({\"Names\" : [\"Adam\" , \"Bob\" , \"John\", \"Mike\", \"Sara\"],\n",
        "                     \"Occupation\" : [\"Clerical\",\"Management \",\"Professional\",\"Skilled Manual\",\"Professional\"]})\n",
        "data\n"
      ],
      "metadata": {
        "id": "ztpS54E7iBi4",
        "outputId": "105b9b6c-f274-4f5f-cee4-b8e878aae140",
        "colab": {
          "base_uri": "https://localhost:8080/",
          "height": 206
        }
      },
      "execution_count": 26,
      "outputs": [
        {
          "output_type": "execute_result",
          "data": {
            "text/plain": [
              "  Names      Occupation\n",
              "0  Adam        Clerical\n",
              "1   Bob     Management \n",
              "2  John    Professional\n",
              "3  Mike  Skilled Manual\n",
              "4  Sara    Professional"
            ],
            "text/html": [
              "\n",
              "  <div id=\"df-a8449259-46cb-4261-98ac-7ffcec4c3861\">\n",
              "    <div class=\"colab-df-container\">\n",
              "      <div>\n",
              "<style scoped>\n",
              "    .dataframe tbody tr th:only-of-type {\n",
              "        vertical-align: middle;\n",
              "    }\n",
              "\n",
              "    .dataframe tbody tr th {\n",
              "        vertical-align: top;\n",
              "    }\n",
              "\n",
              "    .dataframe thead th {\n",
              "        text-align: right;\n",
              "    }\n",
              "</style>\n",
              "<table border=\"1\" class=\"dataframe\">\n",
              "  <thead>\n",
              "    <tr style=\"text-align: right;\">\n",
              "      <th></th>\n",
              "      <th>Names</th>\n",
              "      <th>Occupation</th>\n",
              "    </tr>\n",
              "  </thead>\n",
              "  <tbody>\n",
              "    <tr>\n",
              "      <th>0</th>\n",
              "      <td>Adam</td>\n",
              "      <td>Clerical</td>\n",
              "    </tr>\n",
              "    <tr>\n",
              "      <th>1</th>\n",
              "      <td>Bob</td>\n",
              "      <td>Management</td>\n",
              "    </tr>\n",
              "    <tr>\n",
              "      <th>2</th>\n",
              "      <td>John</td>\n",
              "      <td>Professional</td>\n",
              "    </tr>\n",
              "    <tr>\n",
              "      <th>3</th>\n",
              "      <td>Mike</td>\n",
              "      <td>Skilled Manual</td>\n",
              "    </tr>\n",
              "    <tr>\n",
              "      <th>4</th>\n",
              "      <td>Sara</td>\n",
              "      <td>Professional</td>\n",
              "    </tr>\n",
              "  </tbody>\n",
              "</table>\n",
              "</div>\n",
              "      <button class=\"colab-df-convert\" onclick=\"convertToInteractive('df-a8449259-46cb-4261-98ac-7ffcec4c3861')\"\n",
              "              title=\"Convert this dataframe to an interactive table.\"\n",
              "              style=\"display:none;\">\n",
              "        \n",
              "  <svg xmlns=\"http://www.w3.org/2000/svg\" height=\"24px\"viewBox=\"0 0 24 24\"\n",
              "       width=\"24px\">\n",
              "    <path d=\"M0 0h24v24H0V0z\" fill=\"none\"/>\n",
              "    <path d=\"M18.56 5.44l.94 2.06.94-2.06 2.06-.94-2.06-.94-.94-2.06-.94 2.06-2.06.94zm-11 1L8.5 8.5l.94-2.06 2.06-.94-2.06-.94L8.5 2.5l-.94 2.06-2.06.94zm10 10l.94 2.06.94-2.06 2.06-.94-2.06-.94-.94-2.06-.94 2.06-2.06.94z\"/><path d=\"M17.41 7.96l-1.37-1.37c-.4-.4-.92-.59-1.43-.59-.52 0-1.04.2-1.43.59L10.3 9.45l-7.72 7.72c-.78.78-.78 2.05 0 2.83L4 21.41c.39.39.9.59 1.41.59.51 0 1.02-.2 1.41-.59l7.78-7.78 2.81-2.81c.8-.78.8-2.07 0-2.86zM5.41 20L4 18.59l7.72-7.72 1.47 1.35L5.41 20z\"/>\n",
              "  </svg>\n",
              "      </button>\n",
              "      \n",
              "  <style>\n",
              "    .colab-df-container {\n",
              "      display:flex;\n",
              "      flex-wrap:wrap;\n",
              "      gap: 12px;\n",
              "    }\n",
              "\n",
              "    .colab-df-convert {\n",
              "      background-color: #E8F0FE;\n",
              "      border: none;\n",
              "      border-radius: 50%;\n",
              "      cursor: pointer;\n",
              "      display: none;\n",
              "      fill: #1967D2;\n",
              "      height: 32px;\n",
              "      padding: 0 0 0 0;\n",
              "      width: 32px;\n",
              "    }\n",
              "\n",
              "    .colab-df-convert:hover {\n",
              "      background-color: #E2EBFA;\n",
              "      box-shadow: 0px 1px 2px rgba(60, 64, 67, 0.3), 0px 1px 3px 1px rgba(60, 64, 67, 0.15);\n",
              "      fill: #174EA6;\n",
              "    }\n",
              "\n",
              "    [theme=dark] .colab-df-convert {\n",
              "      background-color: #3B4455;\n",
              "      fill: #D2E3FC;\n",
              "    }\n",
              "\n",
              "    [theme=dark] .colab-df-convert:hover {\n",
              "      background-color: #434B5C;\n",
              "      box-shadow: 0px 1px 3px 1px rgba(0, 0, 0, 0.15);\n",
              "      filter: drop-shadow(0px 1px 2px rgba(0, 0, 0, 0.3));\n",
              "      fill: #FFFFFF;\n",
              "    }\n",
              "  </style>\n",
              "\n",
              "      <script>\n",
              "        const buttonEl =\n",
              "          document.querySelector('#df-a8449259-46cb-4261-98ac-7ffcec4c3861 button.colab-df-convert');\n",
              "        buttonEl.style.display =\n",
              "          google.colab.kernel.accessAllowed ? 'block' : 'none';\n",
              "\n",
              "        async function convertToInteractive(key) {\n",
              "          const element = document.querySelector('#df-a8449259-46cb-4261-98ac-7ffcec4c3861');\n",
              "          const dataTable =\n",
              "            await google.colab.kernel.invokeFunction('convertToInteractive',\n",
              "                                                     [key], {});\n",
              "          if (!dataTable) return;\n",
              "\n",
              "          const docLinkHtml = 'Like what you see? Visit the ' +\n",
              "            '<a target=\"_blank\" href=https://colab.research.google.com/notebooks/data_table.ipynb>data table notebook</a>'\n",
              "            + ' to learn more about interactive tables.';\n",
              "          element.innerHTML = '';\n",
              "          dataTable['output_type'] = 'display_data';\n",
              "          await google.colab.output.renderOutput(dataTable, element);\n",
              "          const docLink = document.createElement('div');\n",
              "          docLink.innerHTML = docLinkHtml;\n",
              "          element.appendChild(docLink);\n",
              "        }\n",
              "      </script>\n",
              "    </div>\n",
              "  </div>\n",
              "  "
            ]
          },
          "metadata": {},
          "execution_count": 26
        }
      ]
    },
    {
      "cell_type": "code",
      "source": [
        "# Create dataframe using Series\n",
        "Teams = pd.Series([\"England\",\"Brazil\",\"Portugal\",\"Italy\",\"Spain\"])\n",
        "goals  = pd.Series([9,12,8,10])\n",
        "pd.DataFrame({\"Teams\": Teams, \"Total number of Goals\": goals})"
      ],
      "metadata": {
        "id": "ZxvnO-i6dzLR",
        "colab": {
          "base_uri": "https://localhost:8080/",
          "height": 206
        },
        "outputId": "c91cba63-02b2-4d40-d716-2f291c7334cb"
      },
      "execution_count": 27,
      "outputs": [
        {
          "output_type": "execute_result",
          "data": {
            "text/plain": [
              "      Teams  Total number of Goals\n",
              "0   England                    9.0\n",
              "1    Brazil                   12.0\n",
              "2  Portugal                    8.0\n",
              "3     Italy                   10.0\n",
              "4     Spain                    NaN"
            ],
            "text/html": [
              "\n",
              "  <div id=\"df-8570bdd5-758b-4b6b-a49b-1c3eeb674e22\">\n",
              "    <div class=\"colab-df-container\">\n",
              "      <div>\n",
              "<style scoped>\n",
              "    .dataframe tbody tr th:only-of-type {\n",
              "        vertical-align: middle;\n",
              "    }\n",
              "\n",
              "    .dataframe tbody tr th {\n",
              "        vertical-align: top;\n",
              "    }\n",
              "\n",
              "    .dataframe thead th {\n",
              "        text-align: right;\n",
              "    }\n",
              "</style>\n",
              "<table border=\"1\" class=\"dataframe\">\n",
              "  <thead>\n",
              "    <tr style=\"text-align: right;\">\n",
              "      <th></th>\n",
              "      <th>Teams</th>\n",
              "      <th>Total number of Goals</th>\n",
              "    </tr>\n",
              "  </thead>\n",
              "  <tbody>\n",
              "    <tr>\n",
              "      <th>0</th>\n",
              "      <td>England</td>\n",
              "      <td>9.0</td>\n",
              "    </tr>\n",
              "    <tr>\n",
              "      <th>1</th>\n",
              "      <td>Brazil</td>\n",
              "      <td>12.0</td>\n",
              "    </tr>\n",
              "    <tr>\n",
              "      <th>2</th>\n",
              "      <td>Portugal</td>\n",
              "      <td>8.0</td>\n",
              "    </tr>\n",
              "    <tr>\n",
              "      <th>3</th>\n",
              "      <td>Italy</td>\n",
              "      <td>10.0</td>\n",
              "    </tr>\n",
              "    <tr>\n",
              "      <th>4</th>\n",
              "      <td>Spain</td>\n",
              "      <td>NaN</td>\n",
              "    </tr>\n",
              "  </tbody>\n",
              "</table>\n",
              "</div>\n",
              "      <button class=\"colab-df-convert\" onclick=\"convertToInteractive('df-8570bdd5-758b-4b6b-a49b-1c3eeb674e22')\"\n",
              "              title=\"Convert this dataframe to an interactive table.\"\n",
              "              style=\"display:none;\">\n",
              "        \n",
              "  <svg xmlns=\"http://www.w3.org/2000/svg\" height=\"24px\"viewBox=\"0 0 24 24\"\n",
              "       width=\"24px\">\n",
              "    <path d=\"M0 0h24v24H0V0z\" fill=\"none\"/>\n",
              "    <path d=\"M18.56 5.44l.94 2.06.94-2.06 2.06-.94-2.06-.94-.94-2.06-.94 2.06-2.06.94zm-11 1L8.5 8.5l.94-2.06 2.06-.94-2.06-.94L8.5 2.5l-.94 2.06-2.06.94zm10 10l.94 2.06.94-2.06 2.06-.94-2.06-.94-.94-2.06-.94 2.06-2.06.94z\"/><path d=\"M17.41 7.96l-1.37-1.37c-.4-.4-.92-.59-1.43-.59-.52 0-1.04.2-1.43.59L10.3 9.45l-7.72 7.72c-.78.78-.78 2.05 0 2.83L4 21.41c.39.39.9.59 1.41.59.51 0 1.02-.2 1.41-.59l7.78-7.78 2.81-2.81c.8-.78.8-2.07 0-2.86zM5.41 20L4 18.59l7.72-7.72 1.47 1.35L5.41 20z\"/>\n",
              "  </svg>\n",
              "      </button>\n",
              "      \n",
              "  <style>\n",
              "    .colab-df-container {\n",
              "      display:flex;\n",
              "      flex-wrap:wrap;\n",
              "      gap: 12px;\n",
              "    }\n",
              "\n",
              "    .colab-df-convert {\n",
              "      background-color: #E8F0FE;\n",
              "      border: none;\n",
              "      border-radius: 50%;\n",
              "      cursor: pointer;\n",
              "      display: none;\n",
              "      fill: #1967D2;\n",
              "      height: 32px;\n",
              "      padding: 0 0 0 0;\n",
              "      width: 32px;\n",
              "    }\n",
              "\n",
              "    .colab-df-convert:hover {\n",
              "      background-color: #E2EBFA;\n",
              "      box-shadow: 0px 1px 2px rgba(60, 64, 67, 0.3), 0px 1px 3px 1px rgba(60, 64, 67, 0.15);\n",
              "      fill: #174EA6;\n",
              "    }\n",
              "\n",
              "    [theme=dark] .colab-df-convert {\n",
              "      background-color: #3B4455;\n",
              "      fill: #D2E3FC;\n",
              "    }\n",
              "\n",
              "    [theme=dark] .colab-df-convert:hover {\n",
              "      background-color: #434B5C;\n",
              "      box-shadow: 0px 1px 3px 1px rgba(0, 0, 0, 0.15);\n",
              "      filter: drop-shadow(0px 1px 2px rgba(0, 0, 0, 0.3));\n",
              "      fill: #FFFFFF;\n",
              "    }\n",
              "  </style>\n",
              "\n",
              "      <script>\n",
              "        const buttonEl =\n",
              "          document.querySelector('#df-8570bdd5-758b-4b6b-a49b-1c3eeb674e22 button.colab-df-convert');\n",
              "        buttonEl.style.display =\n",
              "          google.colab.kernel.accessAllowed ? 'block' : 'none';\n",
              "\n",
              "        async function convertToInteractive(key) {\n",
              "          const element = document.querySelector('#df-8570bdd5-758b-4b6b-a49b-1c3eeb674e22');\n",
              "          const dataTable =\n",
              "            await google.colab.kernel.invokeFunction('convertToInteractive',\n",
              "                                                     [key], {});\n",
              "          if (!dataTable) return;\n",
              "\n",
              "          const docLinkHtml = 'Like what you see? Visit the ' +\n",
              "            '<a target=\"_blank\" href=https://colab.research.google.com/notebooks/data_table.ipynb>data table notebook</a>'\n",
              "            + ' to learn more about interactive tables.';\n",
              "          element.innerHTML = '';\n",
              "          dataTable['output_type'] = 'display_data';\n",
              "          await google.colab.output.renderOutput(dataTable, element);\n",
              "          const docLink = document.createElement('div');\n",
              "          docLink.innerHTML = docLinkHtml;\n",
              "          element.appendChild(docLink);\n",
              "        }\n",
              "      </script>\n",
              "    </div>\n",
              "  </div>\n",
              "  "
            ]
          },
          "metadata": {},
          "execution_count": 27
        }
      ]
    },
    {
      "cell_type": "code",
      "source": [
        "# ACTIVITY - DataFrames\n",
        "data = {'Social Media': ['Facebook', 'Youtube', 'Whatsapp', 'Instagram'],\n",
        "         'Active users (in Billions)': [3, 2.5, 2, 1.5]}\n",
        "df = pd.DataFrame(data)\n",
        "df"
      ],
      "metadata": {
        "id": "r88aKPTeheBB",
        "colab": {
          "base_uri": "https://localhost:8080/",
          "height": 175
        },
        "outputId": "e512cf7f-559f-4d8d-ff7c-444cf0a664cd"
      },
      "execution_count": 28,
      "outputs": [
        {
          "output_type": "execute_result",
          "data": {
            "text/plain": [
              "  Social Media  Active users (in Billions)\n",
              "0     Facebook                         3.0\n",
              "1      Youtube                         2.5\n",
              "2     Whatsapp                         2.0\n",
              "3    Instagram                         1.5"
            ],
            "text/html": [
              "\n",
              "  <div id=\"df-0816e681-ce7a-41ed-a43f-c4a4f21f9a81\">\n",
              "    <div class=\"colab-df-container\">\n",
              "      <div>\n",
              "<style scoped>\n",
              "    .dataframe tbody tr th:only-of-type {\n",
              "        vertical-align: middle;\n",
              "    }\n",
              "\n",
              "    .dataframe tbody tr th {\n",
              "        vertical-align: top;\n",
              "    }\n",
              "\n",
              "    .dataframe thead th {\n",
              "        text-align: right;\n",
              "    }\n",
              "</style>\n",
              "<table border=\"1\" class=\"dataframe\">\n",
              "  <thead>\n",
              "    <tr style=\"text-align: right;\">\n",
              "      <th></th>\n",
              "      <th>Social Media</th>\n",
              "      <th>Active users (in Billions)</th>\n",
              "    </tr>\n",
              "  </thead>\n",
              "  <tbody>\n",
              "    <tr>\n",
              "      <th>0</th>\n",
              "      <td>Facebook</td>\n",
              "      <td>3.0</td>\n",
              "    </tr>\n",
              "    <tr>\n",
              "      <th>1</th>\n",
              "      <td>Youtube</td>\n",
              "      <td>2.5</td>\n",
              "    </tr>\n",
              "    <tr>\n",
              "      <th>2</th>\n",
              "      <td>Whatsapp</td>\n",
              "      <td>2.0</td>\n",
              "    </tr>\n",
              "    <tr>\n",
              "      <th>3</th>\n",
              "      <td>Instagram</td>\n",
              "      <td>1.5</td>\n",
              "    </tr>\n",
              "  </tbody>\n",
              "</table>\n",
              "</div>\n",
              "      <button class=\"colab-df-convert\" onclick=\"convertToInteractive('df-0816e681-ce7a-41ed-a43f-c4a4f21f9a81')\"\n",
              "              title=\"Convert this dataframe to an interactive table.\"\n",
              "              style=\"display:none;\">\n",
              "        \n",
              "  <svg xmlns=\"http://www.w3.org/2000/svg\" height=\"24px\"viewBox=\"0 0 24 24\"\n",
              "       width=\"24px\">\n",
              "    <path d=\"M0 0h24v24H0V0z\" fill=\"none\"/>\n",
              "    <path d=\"M18.56 5.44l.94 2.06.94-2.06 2.06-.94-2.06-.94-.94-2.06-.94 2.06-2.06.94zm-11 1L8.5 8.5l.94-2.06 2.06-.94-2.06-.94L8.5 2.5l-.94 2.06-2.06.94zm10 10l.94 2.06.94-2.06 2.06-.94-2.06-.94-.94-2.06-.94 2.06-2.06.94z\"/><path d=\"M17.41 7.96l-1.37-1.37c-.4-.4-.92-.59-1.43-.59-.52 0-1.04.2-1.43.59L10.3 9.45l-7.72 7.72c-.78.78-.78 2.05 0 2.83L4 21.41c.39.39.9.59 1.41.59.51 0 1.02-.2 1.41-.59l7.78-7.78 2.81-2.81c.8-.78.8-2.07 0-2.86zM5.41 20L4 18.59l7.72-7.72 1.47 1.35L5.41 20z\"/>\n",
              "  </svg>\n",
              "      </button>\n",
              "      \n",
              "  <style>\n",
              "    .colab-df-container {\n",
              "      display:flex;\n",
              "      flex-wrap:wrap;\n",
              "      gap: 12px;\n",
              "    }\n",
              "\n",
              "    .colab-df-convert {\n",
              "      background-color: #E8F0FE;\n",
              "      border: none;\n",
              "      border-radius: 50%;\n",
              "      cursor: pointer;\n",
              "      display: none;\n",
              "      fill: #1967D2;\n",
              "      height: 32px;\n",
              "      padding: 0 0 0 0;\n",
              "      width: 32px;\n",
              "    }\n",
              "\n",
              "    .colab-df-convert:hover {\n",
              "      background-color: #E2EBFA;\n",
              "      box-shadow: 0px 1px 2px rgba(60, 64, 67, 0.3), 0px 1px 3px 1px rgba(60, 64, 67, 0.15);\n",
              "      fill: #174EA6;\n",
              "    }\n",
              "\n",
              "    [theme=dark] .colab-df-convert {\n",
              "      background-color: #3B4455;\n",
              "      fill: #D2E3FC;\n",
              "    }\n",
              "\n",
              "    [theme=dark] .colab-df-convert:hover {\n",
              "      background-color: #434B5C;\n",
              "      box-shadow: 0px 1px 3px 1px rgba(0, 0, 0, 0.15);\n",
              "      filter: drop-shadow(0px 1px 2px rgba(0, 0, 0, 0.3));\n",
              "      fill: #FFFFFF;\n",
              "    }\n",
              "  </style>\n",
              "\n",
              "      <script>\n",
              "        const buttonEl =\n",
              "          document.querySelector('#df-0816e681-ce7a-41ed-a43f-c4a4f21f9a81 button.colab-df-convert');\n",
              "        buttonEl.style.display =\n",
              "          google.colab.kernel.accessAllowed ? 'block' : 'none';\n",
              "\n",
              "        async function convertToInteractive(key) {\n",
              "          const element = document.querySelector('#df-0816e681-ce7a-41ed-a43f-c4a4f21f9a81');\n",
              "          const dataTable =\n",
              "            await google.colab.kernel.invokeFunction('convertToInteractive',\n",
              "                                                     [key], {});\n",
              "          if (!dataTable) return;\n",
              "\n",
              "          const docLinkHtml = 'Like what you see? Visit the ' +\n",
              "            '<a target=\"_blank\" href=https://colab.research.google.com/notebooks/data_table.ipynb>data table notebook</a>'\n",
              "            + ' to learn more about interactive tables.';\n",
              "          element.innerHTML = '';\n",
              "          dataTable['output_type'] = 'display_data';\n",
              "          await google.colab.output.renderOutput(dataTable, element);\n",
              "          const docLink = document.createElement('div');\n",
              "          docLink.innerHTML = docLinkHtml;\n",
              "          element.appendChild(docLink);\n",
              "        }\n",
              "      </script>\n",
              "    </div>\n",
              "  </div>\n",
              "  "
            ]
          },
          "metadata": {},
          "execution_count": 28
        }
      ]
    },
    {
      "cell_type": "code",
      "source": [
        "from google.colab import drive\n",
        "drive.mount('/content/drive')"
      ],
      "metadata": {
        "colab": {
          "base_uri": "https://localhost:8080/"
        },
        "id": "ANgAPqax3eeD",
        "outputId": "65230131-4eb8-429c-ed5a-f18123e0419e"
      },
      "execution_count": 29,
      "outputs": [
        {
          "output_type": "stream",
          "name": "stdout",
          "text": [
            "Mounted at /content/drive\n"
          ]
        }
      ]
    },
    {
      "cell_type": "code",
      "source": [
        "#Reading a csv file\n",
        "import pandas as pd\n",
        "df = pd.read_csv('/Food samples.csv')\n",
        "df"
      ],
      "metadata": {
        "id": "3xaWS737wT71",
        "colab": {
          "base_uri": "https://localhost:8080/",
          "height": 300
        },
        "outputId": "9c62419b-0072-4b36-b0fe-bd3920f6414a"
      },
      "execution_count": 32,
      "outputs": [
        {
          "output_type": "execute_result",
          "data": {
            "text/plain": [
              "   id  OrderDate Region         City  Category         Product  Quantity  \\\n",
              "0   1   1/1/2020   East       Boston      Bars          Carrot      33.0   \n",
              "1   2   1/4/2020   East       Boston  Crackers     Whole Wheat      87.0   \n",
              "2   3   1/7/2020   West  Los Angeles   Cookies  Chocolate Chip      58.0   \n",
              "3   4  1/10/2020   East     New York   Cookies  Chocolate Chip      82.0   \n",
              "4   5        NaN   East          NaN       NaN             NaN       NaN   \n",
              "5   6  1/16/2020   East       Boston      Bars          Carrot      54.0   \n",
              "6   7  1/19/2020   East       Boston  Crackers     Whole Wheat     149.0   \n",
              "7   8  1/22/2020   West  Los Angeles      Bars          Carrot      51.0   \n",
              "\n",
              "   UnitPrice  \n",
              "0       1.77  \n",
              "1       3.49  \n",
              "2       1.87  \n",
              "3       1.87  \n",
              "4        NaN  \n",
              "5       1.77  \n",
              "6       3.49  \n",
              "7       1.77  "
            ],
            "text/html": [
              "\n",
              "  <div id=\"df-122cfd85-dd06-461b-ae72-574206f1baf3\">\n",
              "    <div class=\"colab-df-container\">\n",
              "      <div>\n",
              "<style scoped>\n",
              "    .dataframe tbody tr th:only-of-type {\n",
              "        vertical-align: middle;\n",
              "    }\n",
              "\n",
              "    .dataframe tbody tr th {\n",
              "        vertical-align: top;\n",
              "    }\n",
              "\n",
              "    .dataframe thead th {\n",
              "        text-align: right;\n",
              "    }\n",
              "</style>\n",
              "<table border=\"1\" class=\"dataframe\">\n",
              "  <thead>\n",
              "    <tr style=\"text-align: right;\">\n",
              "      <th></th>\n",
              "      <th>id</th>\n",
              "      <th>OrderDate</th>\n",
              "      <th>Region</th>\n",
              "      <th>City</th>\n",
              "      <th>Category</th>\n",
              "      <th>Product</th>\n",
              "      <th>Quantity</th>\n",
              "      <th>UnitPrice</th>\n",
              "    </tr>\n",
              "  </thead>\n",
              "  <tbody>\n",
              "    <tr>\n",
              "      <th>0</th>\n",
              "      <td>1</td>\n",
              "      <td>1/1/2020</td>\n",
              "      <td>East</td>\n",
              "      <td>Boston</td>\n",
              "      <td>Bars</td>\n",
              "      <td>Carrot</td>\n",
              "      <td>33.0</td>\n",
              "      <td>1.77</td>\n",
              "    </tr>\n",
              "    <tr>\n",
              "      <th>1</th>\n",
              "      <td>2</td>\n",
              "      <td>1/4/2020</td>\n",
              "      <td>East</td>\n",
              "      <td>Boston</td>\n",
              "      <td>Crackers</td>\n",
              "      <td>Whole Wheat</td>\n",
              "      <td>87.0</td>\n",
              "      <td>3.49</td>\n",
              "    </tr>\n",
              "    <tr>\n",
              "      <th>2</th>\n",
              "      <td>3</td>\n",
              "      <td>1/7/2020</td>\n",
              "      <td>West</td>\n",
              "      <td>Los Angeles</td>\n",
              "      <td>Cookies</td>\n",
              "      <td>Chocolate Chip</td>\n",
              "      <td>58.0</td>\n",
              "      <td>1.87</td>\n",
              "    </tr>\n",
              "    <tr>\n",
              "      <th>3</th>\n",
              "      <td>4</td>\n",
              "      <td>1/10/2020</td>\n",
              "      <td>East</td>\n",
              "      <td>New York</td>\n",
              "      <td>Cookies</td>\n",
              "      <td>Chocolate Chip</td>\n",
              "      <td>82.0</td>\n",
              "      <td>1.87</td>\n",
              "    </tr>\n",
              "    <tr>\n",
              "      <th>4</th>\n",
              "      <td>5</td>\n",
              "      <td>NaN</td>\n",
              "      <td>East</td>\n",
              "      <td>NaN</td>\n",
              "      <td>NaN</td>\n",
              "      <td>NaN</td>\n",
              "      <td>NaN</td>\n",
              "      <td>NaN</td>\n",
              "    </tr>\n",
              "    <tr>\n",
              "      <th>5</th>\n",
              "      <td>6</td>\n",
              "      <td>1/16/2020</td>\n",
              "      <td>East</td>\n",
              "      <td>Boston</td>\n",
              "      <td>Bars</td>\n",
              "      <td>Carrot</td>\n",
              "      <td>54.0</td>\n",
              "      <td>1.77</td>\n",
              "    </tr>\n",
              "    <tr>\n",
              "      <th>6</th>\n",
              "      <td>7</td>\n",
              "      <td>1/19/2020</td>\n",
              "      <td>East</td>\n",
              "      <td>Boston</td>\n",
              "      <td>Crackers</td>\n",
              "      <td>Whole Wheat</td>\n",
              "      <td>149.0</td>\n",
              "      <td>3.49</td>\n",
              "    </tr>\n",
              "    <tr>\n",
              "      <th>7</th>\n",
              "      <td>8</td>\n",
              "      <td>1/22/2020</td>\n",
              "      <td>West</td>\n",
              "      <td>Los Angeles</td>\n",
              "      <td>Bars</td>\n",
              "      <td>Carrot</td>\n",
              "      <td>51.0</td>\n",
              "      <td>1.77</td>\n",
              "    </tr>\n",
              "  </tbody>\n",
              "</table>\n",
              "</div>\n",
              "      <button class=\"colab-df-convert\" onclick=\"convertToInteractive('df-122cfd85-dd06-461b-ae72-574206f1baf3')\"\n",
              "              title=\"Convert this dataframe to an interactive table.\"\n",
              "              style=\"display:none;\">\n",
              "        \n",
              "  <svg xmlns=\"http://www.w3.org/2000/svg\" height=\"24px\"viewBox=\"0 0 24 24\"\n",
              "       width=\"24px\">\n",
              "    <path d=\"M0 0h24v24H0V0z\" fill=\"none\"/>\n",
              "    <path d=\"M18.56 5.44l.94 2.06.94-2.06 2.06-.94-2.06-.94-.94-2.06-.94 2.06-2.06.94zm-11 1L8.5 8.5l.94-2.06 2.06-.94-2.06-.94L8.5 2.5l-.94 2.06-2.06.94zm10 10l.94 2.06.94-2.06 2.06-.94-2.06-.94-.94-2.06-.94 2.06-2.06.94z\"/><path d=\"M17.41 7.96l-1.37-1.37c-.4-.4-.92-.59-1.43-.59-.52 0-1.04.2-1.43.59L10.3 9.45l-7.72 7.72c-.78.78-.78 2.05 0 2.83L4 21.41c.39.39.9.59 1.41.59.51 0 1.02-.2 1.41-.59l7.78-7.78 2.81-2.81c.8-.78.8-2.07 0-2.86zM5.41 20L4 18.59l7.72-7.72 1.47 1.35L5.41 20z\"/>\n",
              "  </svg>\n",
              "      </button>\n",
              "      \n",
              "  <style>\n",
              "    .colab-df-container {\n",
              "      display:flex;\n",
              "      flex-wrap:wrap;\n",
              "      gap: 12px;\n",
              "    }\n",
              "\n",
              "    .colab-df-convert {\n",
              "      background-color: #E8F0FE;\n",
              "      border: none;\n",
              "      border-radius: 50%;\n",
              "      cursor: pointer;\n",
              "      display: none;\n",
              "      fill: #1967D2;\n",
              "      height: 32px;\n",
              "      padding: 0 0 0 0;\n",
              "      width: 32px;\n",
              "    }\n",
              "\n",
              "    .colab-df-convert:hover {\n",
              "      background-color: #E2EBFA;\n",
              "      box-shadow: 0px 1px 2px rgba(60, 64, 67, 0.3), 0px 1px 3px 1px rgba(60, 64, 67, 0.15);\n",
              "      fill: #174EA6;\n",
              "    }\n",
              "\n",
              "    [theme=dark] .colab-df-convert {\n",
              "      background-color: #3B4455;\n",
              "      fill: #D2E3FC;\n",
              "    }\n",
              "\n",
              "    [theme=dark] .colab-df-convert:hover {\n",
              "      background-color: #434B5C;\n",
              "      box-shadow: 0px 1px 3px 1px rgba(0, 0, 0, 0.15);\n",
              "      filter: drop-shadow(0px 1px 2px rgba(0, 0, 0, 0.3));\n",
              "      fill: #FFFFFF;\n",
              "    }\n",
              "  </style>\n",
              "\n",
              "      <script>\n",
              "        const buttonEl =\n",
              "          document.querySelector('#df-122cfd85-dd06-461b-ae72-574206f1baf3 button.colab-df-convert');\n",
              "        buttonEl.style.display =\n",
              "          google.colab.kernel.accessAllowed ? 'block' : 'none';\n",
              "\n",
              "        async function convertToInteractive(key) {\n",
              "          const element = document.querySelector('#df-122cfd85-dd06-461b-ae72-574206f1baf3');\n",
              "          const dataTable =\n",
              "            await google.colab.kernel.invokeFunction('convertToInteractive',\n",
              "                                                     [key], {});\n",
              "          if (!dataTable) return;\n",
              "\n",
              "          const docLinkHtml = 'Like what you see? Visit the ' +\n",
              "            '<a target=\"_blank\" href=https://colab.research.google.com/notebooks/data_table.ipynb>data table notebook</a>'\n",
              "            + ' to learn more about interactive tables.';\n",
              "          element.innerHTML = '';\n",
              "          dataTable['output_type'] = 'display_data';\n",
              "          await google.colab.output.renderOutput(dataTable, element);\n",
              "          const docLink = document.createElement('div');\n",
              "          docLink.innerHTML = docLinkHtml;\n",
              "          element.appendChild(docLink);\n",
              "        }\n",
              "      </script>\n",
              "    </div>\n",
              "  </div>\n",
              "  "
            ]
          },
          "metadata": {},
          "execution_count": 32
        }
      ]
    },
    {
      "cell_type": "code",
      "source": [
        "# Slicing Objects\n",
        "# First 3 rows\n",
        "df.iloc[0:3]"
      ],
      "metadata": {
        "colab": {
          "base_uri": "https://localhost:8080/",
          "height": 143
        },
        "id": "MqLInYU65fc8",
        "outputId": "5157f24c-1023-41d0-ee00-fbd92b522acc"
      },
      "execution_count": 33,
      "outputs": [
        {
          "output_type": "execute_result",
          "data": {
            "text/plain": [
              "   id OrderDate Region         City  Category         Product  Quantity  \\\n",
              "0   1  1/1/2020   East       Boston      Bars          Carrot      33.0   \n",
              "1   2  1/4/2020   East       Boston  Crackers     Whole Wheat      87.0   \n",
              "2   3  1/7/2020   West  Los Angeles   Cookies  Chocolate Chip      58.0   \n",
              "\n",
              "   UnitPrice  \n",
              "0       1.77  \n",
              "1       3.49  \n",
              "2       1.87  "
            ],
            "text/html": [
              "\n",
              "  <div id=\"df-1f2334e6-8cb6-4238-a9f7-6a0df483583a\">\n",
              "    <div class=\"colab-df-container\">\n",
              "      <div>\n",
              "<style scoped>\n",
              "    .dataframe tbody tr th:only-of-type {\n",
              "        vertical-align: middle;\n",
              "    }\n",
              "\n",
              "    .dataframe tbody tr th {\n",
              "        vertical-align: top;\n",
              "    }\n",
              "\n",
              "    .dataframe thead th {\n",
              "        text-align: right;\n",
              "    }\n",
              "</style>\n",
              "<table border=\"1\" class=\"dataframe\">\n",
              "  <thead>\n",
              "    <tr style=\"text-align: right;\">\n",
              "      <th></th>\n",
              "      <th>id</th>\n",
              "      <th>OrderDate</th>\n",
              "      <th>Region</th>\n",
              "      <th>City</th>\n",
              "      <th>Category</th>\n",
              "      <th>Product</th>\n",
              "      <th>Quantity</th>\n",
              "      <th>UnitPrice</th>\n",
              "    </tr>\n",
              "  </thead>\n",
              "  <tbody>\n",
              "    <tr>\n",
              "      <th>0</th>\n",
              "      <td>1</td>\n",
              "      <td>1/1/2020</td>\n",
              "      <td>East</td>\n",
              "      <td>Boston</td>\n",
              "      <td>Bars</td>\n",
              "      <td>Carrot</td>\n",
              "      <td>33.0</td>\n",
              "      <td>1.77</td>\n",
              "    </tr>\n",
              "    <tr>\n",
              "      <th>1</th>\n",
              "      <td>2</td>\n",
              "      <td>1/4/2020</td>\n",
              "      <td>East</td>\n",
              "      <td>Boston</td>\n",
              "      <td>Crackers</td>\n",
              "      <td>Whole Wheat</td>\n",
              "      <td>87.0</td>\n",
              "      <td>3.49</td>\n",
              "    </tr>\n",
              "    <tr>\n",
              "      <th>2</th>\n",
              "      <td>3</td>\n",
              "      <td>1/7/2020</td>\n",
              "      <td>West</td>\n",
              "      <td>Los Angeles</td>\n",
              "      <td>Cookies</td>\n",
              "      <td>Chocolate Chip</td>\n",
              "      <td>58.0</td>\n",
              "      <td>1.87</td>\n",
              "    </tr>\n",
              "  </tbody>\n",
              "</table>\n",
              "</div>\n",
              "      <button class=\"colab-df-convert\" onclick=\"convertToInteractive('df-1f2334e6-8cb6-4238-a9f7-6a0df483583a')\"\n",
              "              title=\"Convert this dataframe to an interactive table.\"\n",
              "              style=\"display:none;\">\n",
              "        \n",
              "  <svg xmlns=\"http://www.w3.org/2000/svg\" height=\"24px\"viewBox=\"0 0 24 24\"\n",
              "       width=\"24px\">\n",
              "    <path d=\"M0 0h24v24H0V0z\" fill=\"none\"/>\n",
              "    <path d=\"M18.56 5.44l.94 2.06.94-2.06 2.06-.94-2.06-.94-.94-2.06-.94 2.06-2.06.94zm-11 1L8.5 8.5l.94-2.06 2.06-.94-2.06-.94L8.5 2.5l-.94 2.06-2.06.94zm10 10l.94 2.06.94-2.06 2.06-.94-2.06-.94-.94-2.06-.94 2.06-2.06.94z\"/><path d=\"M17.41 7.96l-1.37-1.37c-.4-.4-.92-.59-1.43-.59-.52 0-1.04.2-1.43.59L10.3 9.45l-7.72 7.72c-.78.78-.78 2.05 0 2.83L4 21.41c.39.39.9.59 1.41.59.51 0 1.02-.2 1.41-.59l7.78-7.78 2.81-2.81c.8-.78.8-2.07 0-2.86zM5.41 20L4 18.59l7.72-7.72 1.47 1.35L5.41 20z\"/>\n",
              "  </svg>\n",
              "      </button>\n",
              "      \n",
              "  <style>\n",
              "    .colab-df-container {\n",
              "      display:flex;\n",
              "      flex-wrap:wrap;\n",
              "      gap: 12px;\n",
              "    }\n",
              "\n",
              "    .colab-df-convert {\n",
              "      background-color: #E8F0FE;\n",
              "      border: none;\n",
              "      border-radius: 50%;\n",
              "      cursor: pointer;\n",
              "      display: none;\n",
              "      fill: #1967D2;\n",
              "      height: 32px;\n",
              "      padding: 0 0 0 0;\n",
              "      width: 32px;\n",
              "    }\n",
              "\n",
              "    .colab-df-convert:hover {\n",
              "      background-color: #E2EBFA;\n",
              "      box-shadow: 0px 1px 2px rgba(60, 64, 67, 0.3), 0px 1px 3px 1px rgba(60, 64, 67, 0.15);\n",
              "      fill: #174EA6;\n",
              "    }\n",
              "\n",
              "    [theme=dark] .colab-df-convert {\n",
              "      background-color: #3B4455;\n",
              "      fill: #D2E3FC;\n",
              "    }\n",
              "\n",
              "    [theme=dark] .colab-df-convert:hover {\n",
              "      background-color: #434B5C;\n",
              "      box-shadow: 0px 1px 3px 1px rgba(0, 0, 0, 0.15);\n",
              "      filter: drop-shadow(0px 1px 2px rgba(0, 0, 0, 0.3));\n",
              "      fill: #FFFFFF;\n",
              "    }\n",
              "  </style>\n",
              "\n",
              "      <script>\n",
              "        const buttonEl =\n",
              "          document.querySelector('#df-1f2334e6-8cb6-4238-a9f7-6a0df483583a button.colab-df-convert');\n",
              "        buttonEl.style.display =\n",
              "          google.colab.kernel.accessAllowed ? 'block' : 'none';\n",
              "\n",
              "        async function convertToInteractive(key) {\n",
              "          const element = document.querySelector('#df-1f2334e6-8cb6-4238-a9f7-6a0df483583a');\n",
              "          const dataTable =\n",
              "            await google.colab.kernel.invokeFunction('convertToInteractive',\n",
              "                                                     [key], {});\n",
              "          if (!dataTable) return;\n",
              "\n",
              "          const docLinkHtml = 'Like what you see? Visit the ' +\n",
              "            '<a target=\"_blank\" href=https://colab.research.google.com/notebooks/data_table.ipynb>data table notebook</a>'\n",
              "            + ' to learn more about interactive tables.';\n",
              "          element.innerHTML = '';\n",
              "          dataTable['output_type'] = 'display_data';\n",
              "          await google.colab.output.renderOutput(dataTable, element);\n",
              "          const docLink = document.createElement('div');\n",
              "          docLink.innerHTML = docLinkHtml;\n",
              "          element.appendChild(docLink);\n",
              "        }\n",
              "      </script>\n",
              "    </div>\n",
              "  </div>\n",
              "  "
            ]
          },
          "metadata": {},
          "execution_count": 33
        }
      ]
    },
    {
      "cell_type": "code",
      "source": [
        "df.iloc[:,1:3]"
      ],
      "metadata": {
        "colab": {
          "base_uri": "https://localhost:8080/",
          "height": 300
        },
        "id": "_uQIRl4D5ff5",
        "outputId": "5fd8ac67-f6bd-4c33-dcfa-ae342df89fa3"
      },
      "execution_count": 34,
      "outputs": [
        {
          "output_type": "execute_result",
          "data": {
            "text/plain": [
              "   OrderDate Region\n",
              "0   1/1/2020   East\n",
              "1   1/4/2020   East\n",
              "2   1/7/2020   West\n",
              "3  1/10/2020   East\n",
              "4        NaN   East\n",
              "5  1/16/2020   East\n",
              "6  1/19/2020   East\n",
              "7  1/22/2020   West"
            ],
            "text/html": [
              "\n",
              "  <div id=\"df-049ae89b-2cfd-4bbb-8d40-5c00e39a2e13\">\n",
              "    <div class=\"colab-df-container\">\n",
              "      <div>\n",
              "<style scoped>\n",
              "    .dataframe tbody tr th:only-of-type {\n",
              "        vertical-align: middle;\n",
              "    }\n",
              "\n",
              "    .dataframe tbody tr th {\n",
              "        vertical-align: top;\n",
              "    }\n",
              "\n",
              "    .dataframe thead th {\n",
              "        text-align: right;\n",
              "    }\n",
              "</style>\n",
              "<table border=\"1\" class=\"dataframe\">\n",
              "  <thead>\n",
              "    <tr style=\"text-align: right;\">\n",
              "      <th></th>\n",
              "      <th>OrderDate</th>\n",
              "      <th>Region</th>\n",
              "    </tr>\n",
              "  </thead>\n",
              "  <tbody>\n",
              "    <tr>\n",
              "      <th>0</th>\n",
              "      <td>1/1/2020</td>\n",
              "      <td>East</td>\n",
              "    </tr>\n",
              "    <tr>\n",
              "      <th>1</th>\n",
              "      <td>1/4/2020</td>\n",
              "      <td>East</td>\n",
              "    </tr>\n",
              "    <tr>\n",
              "      <th>2</th>\n",
              "      <td>1/7/2020</td>\n",
              "      <td>West</td>\n",
              "    </tr>\n",
              "    <tr>\n",
              "      <th>3</th>\n",
              "      <td>1/10/2020</td>\n",
              "      <td>East</td>\n",
              "    </tr>\n",
              "    <tr>\n",
              "      <th>4</th>\n",
              "      <td>NaN</td>\n",
              "      <td>East</td>\n",
              "    </tr>\n",
              "    <tr>\n",
              "      <th>5</th>\n",
              "      <td>1/16/2020</td>\n",
              "      <td>East</td>\n",
              "    </tr>\n",
              "    <tr>\n",
              "      <th>6</th>\n",
              "      <td>1/19/2020</td>\n",
              "      <td>East</td>\n",
              "    </tr>\n",
              "    <tr>\n",
              "      <th>7</th>\n",
              "      <td>1/22/2020</td>\n",
              "      <td>West</td>\n",
              "    </tr>\n",
              "  </tbody>\n",
              "</table>\n",
              "</div>\n",
              "      <button class=\"colab-df-convert\" onclick=\"convertToInteractive('df-049ae89b-2cfd-4bbb-8d40-5c00e39a2e13')\"\n",
              "              title=\"Convert this dataframe to an interactive table.\"\n",
              "              style=\"display:none;\">\n",
              "        \n",
              "  <svg xmlns=\"http://www.w3.org/2000/svg\" height=\"24px\"viewBox=\"0 0 24 24\"\n",
              "       width=\"24px\">\n",
              "    <path d=\"M0 0h24v24H0V0z\" fill=\"none\"/>\n",
              "    <path d=\"M18.56 5.44l.94 2.06.94-2.06 2.06-.94-2.06-.94-.94-2.06-.94 2.06-2.06.94zm-11 1L8.5 8.5l.94-2.06 2.06-.94-2.06-.94L8.5 2.5l-.94 2.06-2.06.94zm10 10l.94 2.06.94-2.06 2.06-.94-2.06-.94-.94-2.06-.94 2.06-2.06.94z\"/><path d=\"M17.41 7.96l-1.37-1.37c-.4-.4-.92-.59-1.43-.59-.52 0-1.04.2-1.43.59L10.3 9.45l-7.72 7.72c-.78.78-.78 2.05 0 2.83L4 21.41c.39.39.9.59 1.41.59.51 0 1.02-.2 1.41-.59l7.78-7.78 2.81-2.81c.8-.78.8-2.07 0-2.86zM5.41 20L4 18.59l7.72-7.72 1.47 1.35L5.41 20z\"/>\n",
              "  </svg>\n",
              "      </button>\n",
              "      \n",
              "  <style>\n",
              "    .colab-df-container {\n",
              "      display:flex;\n",
              "      flex-wrap:wrap;\n",
              "      gap: 12px;\n",
              "    }\n",
              "\n",
              "    .colab-df-convert {\n",
              "      background-color: #E8F0FE;\n",
              "      border: none;\n",
              "      border-radius: 50%;\n",
              "      cursor: pointer;\n",
              "      display: none;\n",
              "      fill: #1967D2;\n",
              "      height: 32px;\n",
              "      padding: 0 0 0 0;\n",
              "      width: 32px;\n",
              "    }\n",
              "\n",
              "    .colab-df-convert:hover {\n",
              "      background-color: #E2EBFA;\n",
              "      box-shadow: 0px 1px 2px rgba(60, 64, 67, 0.3), 0px 1px 3px 1px rgba(60, 64, 67, 0.15);\n",
              "      fill: #174EA6;\n",
              "    }\n",
              "\n",
              "    [theme=dark] .colab-df-convert {\n",
              "      background-color: #3B4455;\n",
              "      fill: #D2E3FC;\n",
              "    }\n",
              "\n",
              "    [theme=dark] .colab-df-convert:hover {\n",
              "      background-color: #434B5C;\n",
              "      box-shadow: 0px 1px 3px 1px rgba(0, 0, 0, 0.15);\n",
              "      filter: drop-shadow(0px 1px 2px rgba(0, 0, 0, 0.3));\n",
              "      fill: #FFFFFF;\n",
              "    }\n",
              "  </style>\n",
              "\n",
              "      <script>\n",
              "        const buttonEl =\n",
              "          document.querySelector('#df-049ae89b-2cfd-4bbb-8d40-5c00e39a2e13 button.colab-df-convert');\n",
              "        buttonEl.style.display =\n",
              "          google.colab.kernel.accessAllowed ? 'block' : 'none';\n",
              "\n",
              "        async function convertToInteractive(key) {\n",
              "          const element = document.querySelector('#df-049ae89b-2cfd-4bbb-8d40-5c00e39a2e13');\n",
              "          const dataTable =\n",
              "            await google.colab.kernel.invokeFunction('convertToInteractive',\n",
              "                                                     [key], {});\n",
              "          if (!dataTable) return;\n",
              "\n",
              "          const docLinkHtml = 'Like what you see? Visit the ' +\n",
              "            '<a target=\"_blank\" href=https://colab.research.google.com/notebooks/data_table.ipynb>data table notebook</a>'\n",
              "            + ' to learn more about interactive tables.';\n",
              "          element.innerHTML = '';\n",
              "          dataTable['output_type'] = 'display_data';\n",
              "          await google.colab.output.renderOutput(dataTable, element);\n",
              "          const docLink = document.createElement('div');\n",
              "          docLink.innerHTML = docLinkHtml;\n",
              "          element.appendChild(docLink);\n",
              "        }\n",
              "      </script>\n",
              "    </div>\n",
              "  </div>\n",
              "  "
            ]
          },
          "metadata": {},
          "execution_count": 34
        }
      ]
    },
    {
      "cell_type": "code",
      "source": [
        "# Missing row\n",
        "df.loc[df.isnull().any(axis=1)]"
      ],
      "metadata": {
        "colab": {
          "base_uri": "https://localhost:8080/",
          "height": 81
        },
        "id": "i1Vz9SD85fiR",
        "outputId": "e098bce4-5e7d-4cd2-a931-da80c6df7634"
      },
      "execution_count": 35,
      "outputs": [
        {
          "output_type": "execute_result",
          "data": {
            "text/plain": [
              "   id OrderDate Region City Category Product  Quantity  UnitPrice\n",
              "4   5       NaN   East  NaN      NaN     NaN       NaN        NaN"
            ],
            "text/html": [
              "\n",
              "  <div id=\"df-eb8b8a97-0e77-488b-8289-45db56cd3e07\">\n",
              "    <div class=\"colab-df-container\">\n",
              "      <div>\n",
              "<style scoped>\n",
              "    .dataframe tbody tr th:only-of-type {\n",
              "        vertical-align: middle;\n",
              "    }\n",
              "\n",
              "    .dataframe tbody tr th {\n",
              "        vertical-align: top;\n",
              "    }\n",
              "\n",
              "    .dataframe thead th {\n",
              "        text-align: right;\n",
              "    }\n",
              "</style>\n",
              "<table border=\"1\" class=\"dataframe\">\n",
              "  <thead>\n",
              "    <tr style=\"text-align: right;\">\n",
              "      <th></th>\n",
              "      <th>id</th>\n",
              "      <th>OrderDate</th>\n",
              "      <th>Region</th>\n",
              "      <th>City</th>\n",
              "      <th>Category</th>\n",
              "      <th>Product</th>\n",
              "      <th>Quantity</th>\n",
              "      <th>UnitPrice</th>\n",
              "    </tr>\n",
              "  </thead>\n",
              "  <tbody>\n",
              "    <tr>\n",
              "      <th>4</th>\n",
              "      <td>5</td>\n",
              "      <td>NaN</td>\n",
              "      <td>East</td>\n",
              "      <td>NaN</td>\n",
              "      <td>NaN</td>\n",
              "      <td>NaN</td>\n",
              "      <td>NaN</td>\n",
              "      <td>NaN</td>\n",
              "    </tr>\n",
              "  </tbody>\n",
              "</table>\n",
              "</div>\n",
              "      <button class=\"colab-df-convert\" onclick=\"convertToInteractive('df-eb8b8a97-0e77-488b-8289-45db56cd3e07')\"\n",
              "              title=\"Convert this dataframe to an interactive table.\"\n",
              "              style=\"display:none;\">\n",
              "        \n",
              "  <svg xmlns=\"http://www.w3.org/2000/svg\" height=\"24px\"viewBox=\"0 0 24 24\"\n",
              "       width=\"24px\">\n",
              "    <path d=\"M0 0h24v24H0V0z\" fill=\"none\"/>\n",
              "    <path d=\"M18.56 5.44l.94 2.06.94-2.06 2.06-.94-2.06-.94-.94-2.06-.94 2.06-2.06.94zm-11 1L8.5 8.5l.94-2.06 2.06-.94-2.06-.94L8.5 2.5l-.94 2.06-2.06.94zm10 10l.94 2.06.94-2.06 2.06-.94-2.06-.94-.94-2.06-.94 2.06-2.06.94z\"/><path d=\"M17.41 7.96l-1.37-1.37c-.4-.4-.92-.59-1.43-.59-.52 0-1.04.2-1.43.59L10.3 9.45l-7.72 7.72c-.78.78-.78 2.05 0 2.83L4 21.41c.39.39.9.59 1.41.59.51 0 1.02-.2 1.41-.59l7.78-7.78 2.81-2.81c.8-.78.8-2.07 0-2.86zM5.41 20L4 18.59l7.72-7.72 1.47 1.35L5.41 20z\"/>\n",
              "  </svg>\n",
              "      </button>\n",
              "      \n",
              "  <style>\n",
              "    .colab-df-container {\n",
              "      display:flex;\n",
              "      flex-wrap:wrap;\n",
              "      gap: 12px;\n",
              "    }\n",
              "\n",
              "    .colab-df-convert {\n",
              "      background-color: #E8F0FE;\n",
              "      border: none;\n",
              "      border-radius: 50%;\n",
              "      cursor: pointer;\n",
              "      display: none;\n",
              "      fill: #1967D2;\n",
              "      height: 32px;\n",
              "      padding: 0 0 0 0;\n",
              "      width: 32px;\n",
              "    }\n",
              "\n",
              "    .colab-df-convert:hover {\n",
              "      background-color: #E2EBFA;\n",
              "      box-shadow: 0px 1px 2px rgba(60, 64, 67, 0.3), 0px 1px 3px 1px rgba(60, 64, 67, 0.15);\n",
              "      fill: #174EA6;\n",
              "    }\n",
              "\n",
              "    [theme=dark] .colab-df-convert {\n",
              "      background-color: #3B4455;\n",
              "      fill: #D2E3FC;\n",
              "    }\n",
              "\n",
              "    [theme=dark] .colab-df-convert:hover {\n",
              "      background-color: #434B5C;\n",
              "      box-shadow: 0px 1px 3px 1px rgba(0, 0, 0, 0.15);\n",
              "      filter: drop-shadow(0px 1px 2px rgba(0, 0, 0, 0.3));\n",
              "      fill: #FFFFFF;\n",
              "    }\n",
              "  </style>\n",
              "\n",
              "      <script>\n",
              "        const buttonEl =\n",
              "          document.querySelector('#df-eb8b8a97-0e77-488b-8289-45db56cd3e07 button.colab-df-convert');\n",
              "        buttonEl.style.display =\n",
              "          google.colab.kernel.accessAllowed ? 'block' : 'none';\n",
              "\n",
              "        async function convertToInteractive(key) {\n",
              "          const element = document.querySelector('#df-eb8b8a97-0e77-488b-8289-45db56cd3e07');\n",
              "          const dataTable =\n",
              "            await google.colab.kernel.invokeFunction('convertToInteractive',\n",
              "                                                     [key], {});\n",
              "          if (!dataTable) return;\n",
              "\n",
              "          const docLinkHtml = 'Like what you see? Visit the ' +\n",
              "            '<a target=\"_blank\" href=https://colab.research.google.com/notebooks/data_table.ipynb>data table notebook</a>'\n",
              "            + ' to learn more about interactive tables.';\n",
              "          element.innerHTML = '';\n",
              "          dataTable['output_type'] = 'display_data';\n",
              "          await google.colab.output.renderOutput(dataTable, element);\n",
              "          const docLink = document.createElement('div');\n",
              "          docLink.innerHTML = docLinkHtml;\n",
              "          element.appendChild(docLink);\n",
              "        }\n",
              "      </script>\n",
              "    </div>\n",
              "  </div>\n",
              "  "
            ]
          },
          "metadata": {},
          "execution_count": 35
        }
      ]
    },
    {
      "cell_type": "code",
      "source": [
        "# Checking for missing values\n",
        "df.isnull().sum()"
      ],
      "metadata": {
        "colab": {
          "base_uri": "https://localhost:8080/"
        },
        "id": "2IIeLEX75fkz",
        "outputId": "b151bcb3-0fe6-4e36-f2fe-3813177128cd"
      },
      "execution_count": 36,
      "outputs": [
        {
          "output_type": "execute_result",
          "data": {
            "text/plain": [
              "id           0\n",
              "OrderDate    1\n",
              "Region       0\n",
              "City         1\n",
              "Category     1\n",
              "Product      1\n",
              "Quantity     1\n",
              "UnitPrice    1\n",
              "dtype: int64"
            ]
          },
          "metadata": {},
          "execution_count": 36
        }
      ]
    },
    {
      "cell_type": "code",
      "source": [
        "df.isnull().any(axis=1)"
      ],
      "metadata": {
        "colab": {
          "base_uri": "https://localhost:8080/"
        },
        "id": "q36CauSF5fne",
        "outputId": "44d2286a-643f-489a-b044-f5dc9116a884"
      },
      "execution_count": 37,
      "outputs": [
        {
          "output_type": "execute_result",
          "data": {
            "text/plain": [
              "0    False\n",
              "1    False\n",
              "2    False\n",
              "3    False\n",
              "4     True\n",
              "5    False\n",
              "6    False\n",
              "7    False\n",
              "dtype: bool"
            ]
          },
          "metadata": {},
          "execution_count": 37
        }
      ]
    },
    {
      "cell_type": "code",
      "source": [
        "df.loc[df.isnull().any(axis=1)]"
      ],
      "metadata": {
        "colab": {
          "base_uri": "https://localhost:8080/",
          "height": 81
        },
        "id": "lQyRFwGB5fp5",
        "outputId": "60a975e5-9177-4c74-8c24-9bf05d723a63"
      },
      "execution_count": 38,
      "outputs": [
        {
          "output_type": "execute_result",
          "data": {
            "text/plain": [
              "   id OrderDate Region City Category Product  Quantity  UnitPrice\n",
              "4   5       NaN   East  NaN      NaN     NaN       NaN        NaN"
            ],
            "text/html": [
              "\n",
              "  <div id=\"df-587b3bc6-1042-475b-9848-e0dc15fd11fe\">\n",
              "    <div class=\"colab-df-container\">\n",
              "      <div>\n",
              "<style scoped>\n",
              "    .dataframe tbody tr th:only-of-type {\n",
              "        vertical-align: middle;\n",
              "    }\n",
              "\n",
              "    .dataframe tbody tr th {\n",
              "        vertical-align: top;\n",
              "    }\n",
              "\n",
              "    .dataframe thead th {\n",
              "        text-align: right;\n",
              "    }\n",
              "</style>\n",
              "<table border=\"1\" class=\"dataframe\">\n",
              "  <thead>\n",
              "    <tr style=\"text-align: right;\">\n",
              "      <th></th>\n",
              "      <th>id</th>\n",
              "      <th>OrderDate</th>\n",
              "      <th>Region</th>\n",
              "      <th>City</th>\n",
              "      <th>Category</th>\n",
              "      <th>Product</th>\n",
              "      <th>Quantity</th>\n",
              "      <th>UnitPrice</th>\n",
              "    </tr>\n",
              "  </thead>\n",
              "  <tbody>\n",
              "    <tr>\n",
              "      <th>4</th>\n",
              "      <td>5</td>\n",
              "      <td>NaN</td>\n",
              "      <td>East</td>\n",
              "      <td>NaN</td>\n",
              "      <td>NaN</td>\n",
              "      <td>NaN</td>\n",
              "      <td>NaN</td>\n",
              "      <td>NaN</td>\n",
              "    </tr>\n",
              "  </tbody>\n",
              "</table>\n",
              "</div>\n",
              "      <button class=\"colab-df-convert\" onclick=\"convertToInteractive('df-587b3bc6-1042-475b-9848-e0dc15fd11fe')\"\n",
              "              title=\"Convert this dataframe to an interactive table.\"\n",
              "              style=\"display:none;\">\n",
              "        \n",
              "  <svg xmlns=\"http://www.w3.org/2000/svg\" height=\"24px\"viewBox=\"0 0 24 24\"\n",
              "       width=\"24px\">\n",
              "    <path d=\"M0 0h24v24H0V0z\" fill=\"none\"/>\n",
              "    <path d=\"M18.56 5.44l.94 2.06.94-2.06 2.06-.94-2.06-.94-.94-2.06-.94 2.06-2.06.94zm-11 1L8.5 8.5l.94-2.06 2.06-.94-2.06-.94L8.5 2.5l-.94 2.06-2.06.94zm10 10l.94 2.06.94-2.06 2.06-.94-2.06-.94-.94-2.06-.94 2.06-2.06.94z\"/><path d=\"M17.41 7.96l-1.37-1.37c-.4-.4-.92-.59-1.43-.59-.52 0-1.04.2-1.43.59L10.3 9.45l-7.72 7.72c-.78.78-.78 2.05 0 2.83L4 21.41c.39.39.9.59 1.41.59.51 0 1.02-.2 1.41-.59l7.78-7.78 2.81-2.81c.8-.78.8-2.07 0-2.86zM5.41 20L4 18.59l7.72-7.72 1.47 1.35L5.41 20z\"/>\n",
              "  </svg>\n",
              "      </button>\n",
              "      \n",
              "  <style>\n",
              "    .colab-df-container {\n",
              "      display:flex;\n",
              "      flex-wrap:wrap;\n",
              "      gap: 12px;\n",
              "    }\n",
              "\n",
              "    .colab-df-convert {\n",
              "      background-color: #E8F0FE;\n",
              "      border: none;\n",
              "      border-radius: 50%;\n",
              "      cursor: pointer;\n",
              "      display: none;\n",
              "      fill: #1967D2;\n",
              "      height: 32px;\n",
              "      padding: 0 0 0 0;\n",
              "      width: 32px;\n",
              "    }\n",
              "\n",
              "    .colab-df-convert:hover {\n",
              "      background-color: #E2EBFA;\n",
              "      box-shadow: 0px 1px 2px rgba(60, 64, 67, 0.3), 0px 1px 3px 1px rgba(60, 64, 67, 0.15);\n",
              "      fill: #174EA6;\n",
              "    }\n",
              "\n",
              "    [theme=dark] .colab-df-convert {\n",
              "      background-color: #3B4455;\n",
              "      fill: #D2E3FC;\n",
              "    }\n",
              "\n",
              "    [theme=dark] .colab-df-convert:hover {\n",
              "      background-color: #434B5C;\n",
              "      box-shadow: 0px 1px 3px 1px rgba(0, 0, 0, 0.15);\n",
              "      filter: drop-shadow(0px 1px 2px rgba(0, 0, 0, 0.3));\n",
              "      fill: #FFFFFF;\n",
              "    }\n",
              "  </style>\n",
              "\n",
              "      <script>\n",
              "        const buttonEl =\n",
              "          document.querySelector('#df-587b3bc6-1042-475b-9848-e0dc15fd11fe button.colab-df-convert');\n",
              "        buttonEl.style.display =\n",
              "          google.colab.kernel.accessAllowed ? 'block' : 'none';\n",
              "\n",
              "        async function convertToInteractive(key) {\n",
              "          const element = document.querySelector('#df-587b3bc6-1042-475b-9848-e0dc15fd11fe');\n",
              "          const dataTable =\n",
              "            await google.colab.kernel.invokeFunction('convertToInteractive',\n",
              "                                                     [key], {});\n",
              "          if (!dataTable) return;\n",
              "\n",
              "          const docLinkHtml = 'Like what you see? Visit the ' +\n",
              "            '<a target=\"_blank\" href=https://colab.research.google.com/notebooks/data_table.ipynb>data table notebook</a>'\n",
              "            + ' to learn more about interactive tables.';\n",
              "          element.innerHTML = '';\n",
              "          dataTable['output_type'] = 'display_data';\n",
              "          await google.colab.output.renderOutput(dataTable, element);\n",
              "          const docLink = document.createElement('div');\n",
              "          docLink.innerHTML = docLinkHtml;\n",
              "          element.appendChild(docLink);\n",
              "        }\n",
              "      </script>\n",
              "    </div>\n",
              "  </div>\n",
              "  "
            ]
          },
          "metadata": {},
          "execution_count": 38
        }
      ]
    },
    {
      "cell_type": "markdown",
      "source": [
        "# Regression"
      ],
      "metadata": {
        "id": "f5PQnZaieBBq"
      }
    },
    {
      "cell_type": "code",
      "source": [
        "import matplotlib.pyplot as plt\n",
        "\n",
        "x = [5,7,8,7,2,17,2,9,4,11,12,9,6]\n",
        "y = [99,86,87,88,111,86,103,87,94,78,77,85,86]\n",
        "\n",
        "plt.scatter(x, y)\n",
        "plt.show()"
      ],
      "metadata": {
        "colab": {
          "base_uri": "https://localhost:8080/",
          "height": 265
        },
        "id": "olRlASkUeGA7",
        "outputId": "850679db-b39f-48e8-e07d-476239875a64"
      },
      "execution_count": null,
      "outputs": [
        {
          "output_type": "display_data",
          "data": {
            "text/plain": [
              "<Figure size 432x288 with 1 Axes>"
            ],
            "image/png": "[encoded data removed]"
          },
          "metadata": {
            "needs_background": "light"
          }
        }
      ]
    },
    {
      "cell_type": "code",
      "source": [
        "import matplotlib.pyplot as plt\n",
        "from scipy import stats\n",
        "\n",
        "x = [5,7,8,7,2,17,2,9,4,11,12,9,6]\n",
        "y = [99,86,87,88,111,86,103,87,94,78,77,85,86]\n",
        "\n",
        "slope, intercept, r, p, std_err = stats.linregress(x, y)\n",
        "\n",
        "def myfunc(x):\n",
        "  return slope * x + intercept\n",
        "\n",
        "mymodel = list(map(myfunc, x))\n",
        "\n",
        "plt.scatter(x, y)\n",
        "plt.plot(x, mymodel)\n",
        "plt.show()"
      ],
      "metadata": {
        "colab": {
          "base_uri": "https://localhost:8080/",
          "height": 265
        },
        "id": "SfgN7DOpeGUp",
        "outputId": "a1d0af4e-4ae2-48f9-f5cd-a6ff77acb363"
      },
      "execution_count": null,
      "outputs": [
        {
          "output_type": "display_data",
          "data": {
            "text/plain": [
              "<Figure size 432x288 with 1 Axes>"
            ],
            "image/png": "[encoded data removed]"
          },
          "metadata": {
            "needs_background": "light"
          }
        }
      ]
    },
    {
      "cell_type": "code",
      "source": [
        "from scipy import stats\n",
        "\n",
        "x = [5,7,8,7,2,17,2,9,4,11,12,9,6]\n",
        "y = [99,86,87,88,111,86,103,87,94,78,77,85,86]\n",
        "\n",
        "slope, intercept, r, p, std_err = stats.linregress(x, y)\n",
        "\n",
        "print(r)"
      ],
      "metadata": {
        "id": "n0pga49seGby",
        "colab": {
          "base_uri": "https://localhost:8080/"
        },
        "outputId": "526f1c00-a02f-4f85-afa4-0266c79cfd6c"
      },
      "execution_count": null,
      "outputs": [
        {
          "output_type": "stream",
          "name": "stdout",
          "text": [
            "-0.758591524376155\n"
          ]
        }
      ]
    },
    {
      "cell_type": "code",
      "source": [
        "from scipy import stats\n",
        "\n",
        "x = [5,7,8,7,2,17,2,9,4,11,12,9,6]\n",
        "y = [99,86,87,88,111,86,103,87,94,78,77,85,86]\n",
        "\n",
        "slope, intercept, r, p, std_err = stats.linregress(x, y)\n",
        "\n",
        "def myfunc(x):\n",
        "  return slope * x + intercept\n",
        "\n",
        "speed = myfunc(10)\n",
        "\n",
        "print(speed)"
      ],
      "metadata": {
        "colab": {
          "base_uri": "https://localhost:8080/"
        },
        "id": "1dA9WGnXJujO",
        "outputId": "037bcb08-221f-4c3d-8611-6bfdc2295e2f"
      },
      "execution_count": null,
      "outputs": [
        {
          "output_type": "stream",
          "name": "stdout",
          "text": [
            "85.59308314937454\n"
          ]
        }
      ]
    },
    {
      "cell_type": "code",
      "source": [
        "import pandas\n",
        "from sklearn import linear_model\n",
        "df = pandas.read_csv('/co2_car_data.csv')\n",
        "X = df[['Weight', 'Volume']]\n",
        "y = df['CO2']\n",
        "regr = linear_model.LinearRegression()\n",
        "regr.fit(X, y)\n",
        "#predict the CO2 emission of a car where the weight is 2300kg, and the volume is 1300cm3:\n",
        "predictedCO2 = regr.predict([[2300, 1300]])\n",
        "print(predictedCO2)"
      ],
      "metadata": {
        "colab": {
          "base_uri": "https://localhost:8080/"
        },
        "id": "VSdiSnpUJuq9",
        "outputId": "6bbc8deb-fd5f-4ae3-804e-dadd6a93b2ac"
      },
      "execution_count": 39,
      "outputs": [
        {
          "output_type": "stream",
          "name": "stdout",
          "text": [
            "[107.2087328]\n"
          ]
        },
        {
          "output_type": "stream",
          "name": "stderr",
          "text": [
            "/usr/local/lib/python3.7/dist-packages/sklearn/base.py:451: UserWarning: X does not have valid feature names, but LinearRegression was fitted with feature names\n",
            "  \"X does not have valid feature names, but\"\n"
          ]
        }
      ]
    },
    {
      "cell_type": "code",
      "source": [
        "import pandas\n",
        "from sklearn import linear_model\n",
        "df = pandas.read_csv('/co2_car_data.csv')\n",
        "X = df[['Weight', 'Volume']]\n",
        "y = df['CO2']\n",
        "regr = linear_model.LinearRegression()\n",
        "regr.fit(X, y)\n",
        "print(regr.coef_)"
      ],
      "metadata": {
        "colab": {
          "base_uri": "https://localhost:8080/"
        },
        "id": "xa5lgtzogPj9",
        "outputId": "81453f8e-98d1-4c32-e2c7-8c5988e46bcf"
      },
      "execution_count": 40,
      "outputs": [
        {
          "output_type": "stream",
          "name": "stdout",
          "text": [
            "[0.00755095 0.00780526]\n"
          ]
        }
      ]
    },
    {
      "cell_type": "code",
      "source": [
        "import pandas\n",
        "from sklearn import linear_model\n",
        "df = pandas.read_csv('/co2_car_data.csv')\n",
        "X = df[['Weight', 'Volume']]\n",
        "y = df['CO2']\n",
        "regr = linear_model.LinearRegression()\n",
        "regr.fit(X, y)\n",
        "predictedCO2 = regr.predict([[3300, 1300]])\n",
        "print(predictedCO2)"
      ],
      "metadata": {
        "colab": {
          "base_uri": "https://localhost:8080/"
        },
        "id": "sTPVx5zfgPuC",
        "outputId": "038b1143-9fb5-4ad6-e7c7-f0725fadb069"
      },
      "execution_count": 41,
      "outputs": [
        {
          "output_type": "stream",
          "name": "stdout",
          "text": [
            "[114.75968007]\n"
          ]
        },
        {
          "output_type": "stream",
          "name": "stderr",
          "text": [
            "/usr/local/lib/python3.7/dist-packages/sklearn/base.py:451: UserWarning: X does not have valid feature names, but LinearRegression was fitted with feature names\n",
            "  \"X does not have valid feature names, but\"\n"
          ]
        }
      ]
    },
    {
      "cell_type": "markdown",
      "source": [
        "# Classification"
      ],
      "metadata": {
        "id": "t-qsn4qu0aDA"
      }
    },
    {
      "cell_type": "code",
      "source": [
        "import numpy"
      ],
      "metadata": {
        "id": "IE7vP78p0RPv"
      },
      "execution_count": null,
      "outputs": []
    },
    {
      "cell_type": "code",
      "source": [
        "# X represents the size of a tumor in centimeters.\n",
        "X = numpy.array([3.78, 2.44, 2.09, 0.14, 1.72, 1.65, 4.92, 4.37, 4.96, 4.52, 3.69, 5.88]).reshape(-1,1)\n",
        "\n",
        "# Note: X has to be reshaped into a column from a row for the LogisticRegression() function to work.\n",
        "# y represents whether or not the tumor is cancerous (0 for \"No\", 1 for \"Yes\").\n",
        "y = numpy.array([0, 0, 0, 0, 0, 0, 1, 1, 1, 1, 1, 1])"
      ],
      "metadata": {
        "id": "rPjyNG630Pgn"
      },
      "execution_count": null,
      "outputs": []
    },
    {
      "cell_type": "code",
      "source": [
        "X = numpy.array([3.78, 2.44, 2.09, 0.14, 1.72, 1.65, 4.92, 4.37, 4.96, 4.52, 3.69, 5.88]).reshape(-1,1)\n",
        "\n",
        "y = numpy.array([0, 0, 0, 0, 0, 0, 1, 1, 1, 1, 1, 1])"
      ],
      "metadata": {
        "id": "jAWsF4RbCB2l"
      },
      "execution_count": null,
      "outputs": []
    },
    {
      "cell_type": "code",
      "source": [
        "from sklearn import linear_model"
      ],
      "metadata": {
        "id": "4ZbHXH6J0gPI"
      },
      "execution_count": null,
      "outputs": []
    },
    {
      "cell_type": "code",
      "source": [
        "logr = linear_model.LogisticRegression()\n",
        "logr.fit(X,y)"
      ],
      "metadata": {
        "colab": {
          "base_uri": "https://localhost:8080/"
        },
        "id": "N513pgxa0nbH",
        "outputId": "098ca857-dff9-4fe5-893f-4db604538b3b"
      },
      "execution_count": null,
      "outputs": [
        {
          "output_type": "execute_result",
          "data": {
            "text/plain": [
              "LogisticRegression()"
            ]
          },
          "metadata": {},
          "execution_count": 13
        }
      ]
    },
    {
      "cell_type": "code",
      "source": [
        "#predict if tumor is cancerous where the size is 3.46mm:\n",
        "predicted = logr.predict(numpy.array([3.46]).reshape(-1,1))\n",
        "print(predicted)"
      ],
      "metadata": {
        "id": "88AV5umE0qk_",
        "colab": {
          "base_uri": "https://localhost:8080/"
        },
        "outputId": "301f6140-db7c-4943-989d-2b72344fd87c"
      },
      "execution_count": null,
      "outputs": [
        {
          "output_type": "stream",
          "name": "stdout",
          "text": [
            "[0]\n"
          ]
        }
      ]
    },
    {
      "cell_type": "code",
      "source": [
        "import numpy\n",
        "from sklearn import linear_model\n",
        "\n",
        "#Reshaped for Logistic function.\n",
        "X = numpy.array([3.78, 2.44, 2.09, 0.14, 1.72, 1.65, 4.92, 4.37, 4.96, 4.52, 3.69, 5.88]).reshape(-1,1)\n",
        "y = numpy.array([0, 0, 0, 0, 0, 0, 1, 1, 1, 1, 1, 1])\n",
        "\n",
        "logr = linear_model.LogisticRegression()\n",
        "logr.fit(X,y)\n",
        "\n",
        "#predict if tumor is cancerous where the size is 3.46mm:\n",
        "predicted = logr.predict(numpy.array([3.46]).reshape(-1,1))\n",
        "print(predicted)"
      ],
      "metadata": {
        "colab": {
          "base_uri": "https://localhost:8080/"
        },
        "id": "aLtciLmP0t_f",
        "outputId": "649da6f0-7a2d-4ba4-a62b-9354fb3988f7"
      },
      "execution_count": null,
      "outputs": [
        {
          "output_type": "stream",
          "name": "stdout",
          "text": [
            "[0]\n"
          ]
        }
      ]
    }
  ]
}